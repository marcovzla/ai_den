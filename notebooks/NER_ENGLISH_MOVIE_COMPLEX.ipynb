{
 "cells": [
  {
   "cell_type": "markdown",
   "id": "3daafc36-bfe9-4aed-8085-c64e8651dc0d",
   "metadata": {},
   "source": [
    "# MIT Movie Corpus\n",
    "\n",
    "The MIT Movie Corpus is a semantically tagged training and test corpus in BIO format. The eng corpus are simple queries, and the trivia10k13 corpus are more complex queries.\n",
    "\n",
    "- https://groups.csail.mit.edu/sls/downloads/\n",
    "- https://www.microsoft.com/en-us/research/publication/a-conversational-movie-search-system-based-on-conditional-random-fields/"
   ]
  },
  {
   "cell_type": "code",
   "execution_count": 1,
   "id": "133d1a00-4027-43e5-86cc-b5a9369fbd57",
   "metadata": {},
   "outputs": [],
   "source": [
    "from pathlib import Path\n",
    "\n",
    "data_dir = Path('../data')\n",
    "\n",
    "hub_username = 'marcov'\n",
    "\n",
    "corpus_name = 'NER_ENGLISH_MOVIE_COMPLEX'\n",
    "corpus_url = 'https://groups.csail.mit.edu/sls/downloads/movie'\n",
    "corpus_dir = data_dir / corpus_name\n",
    "corpus_dir.mkdir(parents=True, exist_ok=True)\n",
    "\n",
    "train_filename = 'trivia10k13train.bio'\n",
    "test_filename = 'trivia10k13test.bio'"
   ]
  },
  {
   "cell_type": "code",
   "execution_count": 2,
   "id": "ba6bd0e6-1ba8-40ba-900b-eba7170bb2f3",
   "metadata": {},
   "outputs": [
    {
     "name": "stdout",
     "output_type": "stream",
     "text": [
      "--2024-04-28 12:00:23--  https://groups.csail.mit.edu/sls/downloads/movie/trivia10k13train.bio\n",
      "Resolving groups.csail.mit.edu (groups.csail.mit.edu)... 128.30.2.44\n",
      "Connecting to groups.csail.mit.edu (groups.csail.mit.edu)|128.30.2.44|:443... connected.\n",
      "HTTP request sent, awaiting response... 200 OK\n",
      "Length: 1785558 (1.7M)\n",
      "Saving to: ‘../data/NER_ENGLISH_MOVIE_COMPLEX/trivia10k13train.bio’\n",
      "\n",
      "trivia10k13train.bi 100%[===================>]   1.70M  1.28MB/s    in 1.3s    \n",
      "\n",
      "2024-04-28 12:00:24 (1.28 MB/s) - ‘../data/NER_ENGLISH_MOVIE_COMPLEX/trivia10k13train.bio’ saved [1785558/1785558]\n",
      "\n",
      "--2024-04-28 12:00:25--  https://groups.csail.mit.edu/sls/downloads/movie/trivia10k13test.bio\n",
      "Resolving groups.csail.mit.edu (groups.csail.mit.edu)... 128.30.2.44\n",
      "Connecting to groups.csail.mit.edu (groups.csail.mit.edu)|128.30.2.44|:443... connected.\n",
      "HTTP request sent, awaiting response... 200 OK\n",
      "Length: 438729 (428K)\n",
      "Saving to: ‘../data/NER_ENGLISH_MOVIE_COMPLEX/trivia10k13test.bio’\n",
      "\n",
      "trivia10k13test.bio 100%[===================>] 428.45K   822KB/s    in 0.5s    \n",
      "\n",
      "2024-04-28 12:00:26 (822 KB/s) - ‘../data/NER_ENGLISH_MOVIE_COMPLEX/trivia10k13test.bio’ saved [438729/438729]\n",
      "\n"
     ]
    }
   ],
   "source": [
    "!wget -nc {corpus_url}/{train_filename} -P {corpus_dir}\n",
    "!wget -nc {corpus_url}/{test_filename} -P {corpus_dir}"
   ]
  },
  {
   "cell_type": "code",
   "execution_count": 3,
   "id": "5ead7682-7734-426e-9707-2b4c1227ce6e",
   "metadata": {},
   "outputs": [
    {
     "data": {
      "application/vnd.jupyter.widget-view+json": {
       "model_id": "80a3868bc3054182a32da3b842d78380",
       "version_major": 2,
       "version_minor": 0
      },
      "text/plain": [
       "Generating train split: 0 examples [00:00, ? examples/s]"
      ]
     },
     "metadata": {},
     "output_type": "display_data"
    },
    {
     "data": {
      "application/vnd.jupyter.widget-view+json": {
       "model_id": "947d8830cec2472682efb3173d8f87de",
       "version_major": 2,
       "version_minor": 0
      },
      "text/plain": [
       "Generating train split: 0 examples [00:00, ? examples/s]"
      ]
     },
     "metadata": {},
     "output_type": "display_data"
    },
    {
     "data": {
      "text/plain": [
       "DatasetDict({\n",
       "    train: Dataset({\n",
       "        features: ['text', 'ner'],\n",
       "        num_rows: 7816\n",
       "    })\n",
       "    test: Dataset({\n",
       "        features: ['text', 'ner'],\n",
       "        num_rows: 1953\n",
       "    })\n",
       "})"
      ]
     },
     "execution_count": 3,
     "metadata": {},
     "output_type": "execute_result"
    }
   ],
   "source": [
    "from ai_den.utils.datasets import read_conll_file\n",
    "from datasets import DatasetDict\n",
    "\n",
    "column_format = {'text': 1, 'ner': 0}\n",
    "\n",
    "ds = DatasetDict({\n",
    "    'train': read_conll_file(corpus_dir / train_filename, column_format),\n",
    "    'test': read_conll_file(corpus_dir / test_filename, column_format),\n",
    "})\n",
    "\n",
    "ds"
   ]
  },
  {
   "cell_type": "code",
   "execution_count": 4,
   "id": "eaaee31f-046c-4b02-bbd2-97baf08b4356",
   "metadata": {},
   "outputs": [
    {
     "data": {
      "text/html": [
       "<div>\n",
       "<style scoped>\n",
       "    .dataframe tbody tr th:only-of-type {\n",
       "        vertical-align: middle;\n",
       "    }\n",
       "\n",
       "    .dataframe tbody tr th {\n",
       "        vertical-align: top;\n",
       "    }\n",
       "\n",
       "    .dataframe thead th {\n",
       "        text-align: right;\n",
       "    }\n",
       "</style>\n",
       "<table border=\"1\" class=\"dataframe\">\n",
       "  <thead>\n",
       "    <tr style=\"text-align: right;\">\n",
       "      <th></th>\n",
       "      <th>text</th>\n",
       "      <th>ner</th>\n",
       "    </tr>\n",
       "  </thead>\n",
       "  <tbody>\n",
       "    <tr>\n",
       "      <th>0</th>\n",
       "      <td>[steve, mcqueen, provided, a, thrilling, motor...</td>\n",
       "      <td>[B-Actor, I-Actor, O, O, B-Plot, I-Plot, I-Plo...</td>\n",
       "    </tr>\n",
       "    <tr>\n",
       "      <th>1</th>\n",
       "      <td>[liza, minnelli, and, joel, gray, won, oscars,...</td>\n",
       "      <td>[B-Actor, I-Actor, O, B-Actor, I-Actor, B-Awar...</td>\n",
       "    </tr>\n",
       "    <tr>\n",
       "      <th>2</th>\n",
       "      <td>[what, is, that, tom, hanks, and, julia, rober...</td>\n",
       "      <td>[O, O, O, B-Actor, I-Actor, O, B-Actor, I-Acto...</td>\n",
       "    </tr>\n",
       "    <tr>\n",
       "      <th>3</th>\n",
       "      <td>[what, is, the, movie, making, fun, of, macgyv...</td>\n",
       "      <td>[O, O, O, O, B-Plot, I-Plot, I-Plot, I-Plot, I...</td>\n",
       "    </tr>\n",
       "    <tr>\n",
       "      <th>4</th>\n",
       "      <td>[i, am, thinking, of, an, animated, film, base...</td>\n",
       "      <td>[O, O, O, O, O, B-Genre, O, B-Origin, I-Origin...</td>\n",
       "    </tr>\n",
       "    <tr>\n",
       "      <th>...</th>\n",
       "      <td>...</td>\n",
       "      <td>...</td>\n",
       "    </tr>\n",
       "    <tr>\n",
       "      <th>7811</th>\n",
       "      <td>[you, see, this, 1965, musical, masterpiece, r...</td>\n",
       "      <td>[O, O, O, B-Year, B-Genre, B-Opinion, O, O, O,...</td>\n",
       "    </tr>\n",
       "    <tr>\n",
       "      <th>7812</th>\n",
       "      <td>[young, traveler, allan, gray, discovers, evid...</td>\n",
       "      <td>[B-Plot, I-Plot, B-Character_Name, I-Character...</td>\n",
       "    </tr>\n",
       "    <tr>\n",
       "      <th>7813</th>\n",
       "      <td>[yul, bryner, recreated, his, broadway, role, ...</td>\n",
       "      <td>[B-Actor, I-Actor, B-Origin, I-Origin, I-Origi...</td>\n",
       "    </tr>\n",
       "    <tr>\n",
       "      <th>7814</th>\n",
       "      <td>[yul, brynner, won, an, oscar, for, his, role,...</td>\n",
       "      <td>[B-Actor, I-Actor, O, O, B-Award, O, O, O, O, ...</td>\n",
       "    </tr>\n",
       "    <tr>\n",
       "      <th>7815</th>\n",
       "      <td>[zac, efron, is, a, soldier, searching, for, t...</td>\n",
       "      <td>[B-Actor, I-Actor, O, B-Plot, I-Plot, I-Plot, ...</td>\n",
       "    </tr>\n",
       "  </tbody>\n",
       "</table>\n",
       "<p>7816 rows × 2 columns</p>\n",
       "</div>"
      ],
      "text/plain": [
       "                                                   text  \\\n",
       "0     [steve, mcqueen, provided, a, thrilling, motor...   \n",
       "1     [liza, minnelli, and, joel, gray, won, oscars,...   \n",
       "2     [what, is, that, tom, hanks, and, julia, rober...   \n",
       "3     [what, is, the, movie, making, fun, of, macgyv...   \n",
       "4     [i, am, thinking, of, an, animated, film, base...   \n",
       "...                                                 ...   \n",
       "7811  [you, see, this, 1965, musical, masterpiece, r...   \n",
       "7812  [young, traveler, allan, gray, discovers, evid...   \n",
       "7813  [yul, bryner, recreated, his, broadway, role, ...   \n",
       "7814  [yul, brynner, won, an, oscar, for, his, role,...   \n",
       "7815  [zac, efron, is, a, soldier, searching, for, t...   \n",
       "\n",
       "                                                    ner  \n",
       "0     [B-Actor, I-Actor, O, O, B-Plot, I-Plot, I-Plo...  \n",
       "1     [B-Actor, I-Actor, O, B-Actor, I-Actor, B-Awar...  \n",
       "2     [O, O, O, B-Actor, I-Actor, O, B-Actor, I-Acto...  \n",
       "3     [O, O, O, O, B-Plot, I-Plot, I-Plot, I-Plot, I...  \n",
       "4     [O, O, O, O, O, B-Genre, O, B-Origin, I-Origin...  \n",
       "...                                                 ...  \n",
       "7811  [O, O, O, B-Year, B-Genre, B-Opinion, O, O, O,...  \n",
       "7812  [B-Plot, I-Plot, B-Character_Name, I-Character...  \n",
       "7813  [B-Actor, I-Actor, B-Origin, I-Origin, I-Origi...  \n",
       "7814  [B-Actor, I-Actor, O, O, B-Award, O, O, O, O, ...  \n",
       "7815  [B-Actor, I-Actor, O, B-Plot, I-Plot, I-Plot, ...  \n",
       "\n",
       "[7816 rows x 2 columns]"
      ]
     },
     "execution_count": 4,
     "metadata": {},
     "output_type": "execute_result"
    }
   ],
   "source": [
    "ds['train'].to_pandas()"
   ]
  },
  {
   "cell_type": "code",
   "execution_count": 5,
   "id": "64e9cb9b-c0e2-458b-9364-cf6192a4380f",
   "metadata": {},
   "outputs": [
    {
     "data": {
      "application/vnd.jupyter.widget-view+json": {
       "model_id": "b9cf29716e8a4eb397a17a6afe74de2f",
       "version_major": 2,
       "version_minor": 0
      },
      "text/plain": [
       "Uploading the dataset shards:   0%|          | 0/1 [00:00<?, ?it/s]"
      ]
     },
     "metadata": {},
     "output_type": "display_data"
    },
    {
     "data": {
      "application/vnd.jupyter.widget-view+json": {
       "model_id": "c3b04161ba034e2e8f81073578adfab1",
       "version_major": 2,
       "version_minor": 0
      },
      "text/plain": [
       "Creating parquet from Arrow format:   0%|          | 0/8 [00:00<?, ?ba/s]"
      ]
     },
     "metadata": {},
     "output_type": "display_data"
    },
    {
     "data": {
      "application/vnd.jupyter.widget-view+json": {
       "model_id": "89ec3202f6314357a3af4d042211ade7",
       "version_major": 2,
       "version_minor": 0
      },
      "text/plain": [
       "Uploading the dataset shards:   0%|          | 0/1 [00:00<?, ?it/s]"
      ]
     },
     "metadata": {},
     "output_type": "display_data"
    },
    {
     "data": {
      "application/vnd.jupyter.widget-view+json": {
       "model_id": "0dba9d8732324d3d8d18430295b5e82a",
       "version_major": 2,
       "version_minor": 0
      },
      "text/plain": [
       "Creating parquet from Arrow format:   0%|          | 0/2 [00:00<?, ?ba/s]"
      ]
     },
     "metadata": {},
     "output_type": "display_data"
    },
    {
     "data": {
      "text/plain": [
       "CommitInfo(commit_url='https://huggingface.co/datasets/marcov/NER_ENGLISH_MOVIE_COMPLEX/commit/6aecc7d5b94162671eee05af203a707fbb5901da', commit_message='Upload dataset', commit_description='', oid='6aecc7d5b94162671eee05af203a707fbb5901da', pr_url=None, pr_revision=None, pr_num=None)"
      ]
     },
     "execution_count": 5,
     "metadata": {},
     "output_type": "execute_result"
    }
   ],
   "source": [
    "ds.push_to_hub(\n",
    "    repo_id=f'{hub_username}/{corpus_name}',\n",
    "    private=True,\n",
    ")"
   ]
  },
  {
   "cell_type": "code",
   "execution_count": null,
   "id": "217a32d2-d1b7-4e80-973d-bebd23e3cf19",
   "metadata": {},
   "outputs": [],
   "source": []
  }
 ],
 "metadata": {
  "kernelspec": {
   "display_name": "Python 3 (ipykernel)",
   "language": "python",
   "name": "python3"
  },
  "language_info": {
   "codemirror_mode": {
    "name": "ipython",
    "version": 3
   },
   "file_extension": ".py",
   "mimetype": "text/x-python",
   "name": "python",
   "nbconvert_exporter": "python",
   "pygments_lexer": "ipython3",
   "version": "3.11.8"
  }
 },
 "nbformat": 4,
 "nbformat_minor": 5
}
