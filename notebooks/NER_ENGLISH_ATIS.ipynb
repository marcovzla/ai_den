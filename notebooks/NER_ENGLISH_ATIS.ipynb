{
 "cells": [
  {
   "cell_type": "markdown",
   "id": "ee2bdcae-a215-461f-a302-94420753fd37",
   "metadata": {},
   "source": [
    "# ATIS\n",
    "\n",
    "- https://aclanthology.org/H90-1021/\n",
    "- https://github.com/howl-anderson/ATIS_dataset/blob/master/README.en-US.md"
   ]
  },
  {
   "cell_type": "code",
   "execution_count": 1,
   "id": "33328ae5-cccb-402d-afd4-4e472b89adf2",
   "metadata": {},
   "outputs": [],
   "source": [
    "from pathlib import Path\n",
    "\n",
    "data_dir = Path('../data')\n",
    "\n",
    "hub_username = 'marcov'\n",
    "\n",
    "corpus_name = 'NER_ENGLISH_ATIS'\n",
    "corpus_url = 'https://raw.githubusercontent.com/howl-anderson/ATIS_dataset/master/data/standard_format/rasa'\n",
    "corpus_dir = data_dir / corpus_name\n",
    "corpus_dir.mkdir(parents=True, exist_ok=True)\n",
    "\n",
    "train_filename = 'train.json'\n",
    "test_filename = 'test.json'"
   ]
  },
  {
   "cell_type": "code",
   "execution_count": 2,
   "id": "3f22a136-b82b-40c4-9c63-60e3332e9736",
   "metadata": {},
   "outputs": [
    {
     "name": "stdout",
     "output_type": "stream",
     "text": [
      "--2024-04-28 12:07:30--  https://raw.githubusercontent.com/howl-anderson/ATIS_dataset/master/data/standard_format/rasa/train.json\n",
      "Resolving raw.githubusercontent.com (raw.githubusercontent.com)... 185.199.108.133, 185.199.109.133, 185.199.111.133, ...\n",
      "Connecting to raw.githubusercontent.com (raw.githubusercontent.com)|185.199.108.133|:443... connected.\n",
      "HTTP request sent, awaiting response... 200 OK\n",
      "Length: 4586495 (4.4M) [text/plain]\n",
      "Saving to: ‘../data/NER_ENGLISH_ATIS/train.json’\n",
      "\n",
      "train.json          100%[===================>]   4.37M  2.81MB/s    in 1.6s    \n",
      "\n",
      "2024-04-28 12:07:32 (2.81 MB/s) - ‘../data/NER_ENGLISH_ATIS/train.json’ saved [4586495/4586495]\n",
      "\n",
      "--2024-04-28 12:07:32--  https://raw.githubusercontent.com/howl-anderson/ATIS_dataset/master/data/standard_format/rasa/test.json\n",
      "Resolving raw.githubusercontent.com (raw.githubusercontent.com)... 185.199.109.133, 185.199.110.133, 185.199.111.133, ...\n",
      "Connecting to raw.githubusercontent.com (raw.githubusercontent.com)|185.199.109.133|:443... connected.\n",
      "HTTP request sent, awaiting response... 200 OK\n",
      "Length: 788180 (770K) [text/plain]\n",
      "Saving to: ‘../data/NER_ENGLISH_ATIS/test.json’\n",
      "\n",
      "test.json           100%[===================>] 769.71K  2.34MB/s    in 0.3s    \n",
      "\n",
      "2024-04-28 12:07:33 (2.34 MB/s) - ‘../data/NER_ENGLISH_ATIS/test.json’ saved [788180/788180]\n",
      "\n"
     ]
    }
   ],
   "source": [
    "!wget -nc {corpus_url}/{train_filename} -P {corpus_dir}\n",
    "!wget -nc {corpus_url}/{test_filename} -P {corpus_dir}"
   ]
  },
  {
   "cell_type": "code",
   "execution_count": 3,
   "id": "ea4615f8-bbe5-4d5c-9352-88029f012021",
   "metadata": {},
   "outputs": [
    {
     "data": {
      "text/plain": [
       "DatasetDict({\n",
       "    train: Dataset({\n",
       "        features: ['text', 'intent', 'entities'],\n",
       "        num_rows: 4978\n",
       "    })\n",
       "    test: Dataset({\n",
       "        features: ['text', 'intent', 'entities'],\n",
       "        num_rows: 893\n",
       "    })\n",
       "})"
      ]
     },
     "execution_count": 3,
     "metadata": {},
     "output_type": "execute_result"
    }
   ],
   "source": [
    "import json\n",
    "from datasets import Dataset, DatasetDict\n",
    "\n",
    "def load_data(filename):\n",
    "    with open(corpus_dir / filename) as f:\n",
    "        data = json.load(f)\n",
    "        return data['rasa_nlu_data']['common_examples']\n",
    "\n",
    "ds = DatasetDict({\n",
    "    'train': Dataset.from_list(load_data(train_filename)),\n",
    "    'test': Dataset.from_list(load_data(test_filename)),\n",
    "})\n",
    "\n",
    "ds"
   ]
  },
  {
   "cell_type": "code",
   "execution_count": 4,
   "id": "8ffdead2-4bcf-43b0-9407-10b7aa92dbf1",
   "metadata": {},
   "outputs": [
    {
     "data": {
      "text/html": [
       "<div>\n",
       "<style scoped>\n",
       "    .dataframe tbody tr th:only-of-type {\n",
       "        vertical-align: middle;\n",
       "    }\n",
       "\n",
       "    .dataframe tbody tr th {\n",
       "        vertical-align: top;\n",
       "    }\n",
       "\n",
       "    .dataframe thead th {\n",
       "        text-align: right;\n",
       "    }\n",
       "</style>\n",
       "<table border=\"1\" class=\"dataframe\">\n",
       "  <thead>\n",
       "    <tr style=\"text-align: right;\">\n",
       "      <th></th>\n",
       "      <th>text</th>\n",
       "      <th>intent</th>\n",
       "      <th>entities</th>\n",
       "    </tr>\n",
       "  </thead>\n",
       "  <tbody>\n",
       "    <tr>\n",
       "      <th>0</th>\n",
       "      <td>i want to fly from boston at 838 am and arrive...</td>\n",
       "      <td>flight</td>\n",
       "      <td>[{'end': 25, 'entity': 'fromloc.city_name', 's...</td>\n",
       "    </tr>\n",
       "    <tr>\n",
       "      <th>1</th>\n",
       "      <td>what flights are available from pittsburgh to ...</td>\n",
       "      <td>flight</td>\n",
       "      <td>[{'end': 42, 'entity': 'fromloc.city_name', 's...</td>\n",
       "    </tr>\n",
       "    <tr>\n",
       "      <th>2</th>\n",
       "      <td>what is the arrival time in san francisco for ...</td>\n",
       "      <td>flight_time</td>\n",
       "      <td>[{'end': 24, 'entity': 'flight_time', 'start':...</td>\n",
       "    </tr>\n",
       "    <tr>\n",
       "      <th>3</th>\n",
       "      <td>cheapest airfare from tacoma to orlando</td>\n",
       "      <td>airfare</td>\n",
       "      <td>[{'end': 9, 'entity': 'cost_relative', 'start'...</td>\n",
       "    </tr>\n",
       "    <tr>\n",
       "      <th>4</th>\n",
       "      <td>round trip fares from pittsburgh to philadelph...</td>\n",
       "      <td>airfare</td>\n",
       "      <td>[{'end': 11, 'entity': 'round_trip', 'start': ...</td>\n",
       "    </tr>\n",
       "    <tr>\n",
       "      <th>...</th>\n",
       "      <td>...</td>\n",
       "      <td>...</td>\n",
       "      <td>...</td>\n",
       "    </tr>\n",
       "    <tr>\n",
       "      <th>4973</th>\n",
       "      <td>what is the airfare for flights from denver to...</td>\n",
       "      <td>airfare</td>\n",
       "      <td>[{'end': 43, 'entity': 'fromloc.city_name', 's...</td>\n",
       "    </tr>\n",
       "    <tr>\n",
       "      <th>4974</th>\n",
       "      <td>do you have any flights from denver to baltimo...</td>\n",
       "      <td>flight</td>\n",
       "      <td>[{'end': 35, 'entity': 'fromloc.city_name', 's...</td>\n",
       "    </tr>\n",
       "    <tr>\n",
       "      <th>4975</th>\n",
       "      <td>which airlines fly into and out of denver</td>\n",
       "      <td>airline</td>\n",
       "      <td>[{'end': 41, 'entity': 'city_name', 'start': 3...</td>\n",
       "    </tr>\n",
       "    <tr>\n",
       "      <th>4976</th>\n",
       "      <td>does continental fly from boston to san franci...</td>\n",
       "      <td>flight</td>\n",
       "      <td>[{'end': 16, 'entity': 'airline_name', 'start'...</td>\n",
       "    </tr>\n",
       "    <tr>\n",
       "      <th>4977</th>\n",
       "      <td>is there a delta flight from denver to san fra...</td>\n",
       "      <td>flight</td>\n",
       "      <td>[{'end': 16, 'entity': 'airline_name', 'start'...</td>\n",
       "    </tr>\n",
       "  </tbody>\n",
       "</table>\n",
       "<p>4978 rows × 3 columns</p>\n",
       "</div>"
      ],
      "text/plain": [
       "                                                   text       intent  \\\n",
       "0     i want to fly from boston at 838 am and arrive...       flight   \n",
       "1     what flights are available from pittsburgh to ...       flight   \n",
       "2     what is the arrival time in san francisco for ...  flight_time   \n",
       "3               cheapest airfare from tacoma to orlando      airfare   \n",
       "4     round trip fares from pittsburgh to philadelph...      airfare   \n",
       "...                                                 ...          ...   \n",
       "4973  what is the airfare for flights from denver to...      airfare   \n",
       "4974  do you have any flights from denver to baltimo...       flight   \n",
       "4975          which airlines fly into and out of denver      airline   \n",
       "4976  does continental fly from boston to san franci...       flight   \n",
       "4977  is there a delta flight from denver to san fra...       flight   \n",
       "\n",
       "                                               entities  \n",
       "0     [{'end': 25, 'entity': 'fromloc.city_name', 's...  \n",
       "1     [{'end': 42, 'entity': 'fromloc.city_name', 's...  \n",
       "2     [{'end': 24, 'entity': 'flight_time', 'start':...  \n",
       "3     [{'end': 9, 'entity': 'cost_relative', 'start'...  \n",
       "4     [{'end': 11, 'entity': 'round_trip', 'start': ...  \n",
       "...                                                 ...  \n",
       "4973  [{'end': 43, 'entity': 'fromloc.city_name', 's...  \n",
       "4974  [{'end': 35, 'entity': 'fromloc.city_name', 's...  \n",
       "4975  [{'end': 41, 'entity': 'city_name', 'start': 3...  \n",
       "4976  [{'end': 16, 'entity': 'airline_name', 'start'...  \n",
       "4977  [{'end': 16, 'entity': 'airline_name', 'start'...  \n",
       "\n",
       "[4978 rows x 3 columns]"
      ]
     },
     "execution_count": 4,
     "metadata": {},
     "output_type": "execute_result"
    }
   ],
   "source": [
    "ds['train'].to_pandas()"
   ]
  },
  {
   "cell_type": "code",
   "execution_count": 5,
   "id": "d6403970-ac37-407c-8ef5-3d2d86b14dfe",
   "metadata": {},
   "outputs": [
    {
     "data": {
      "application/vnd.jupyter.widget-view+json": {
       "model_id": "1dc9a33a6d4847bfa19435b3641dd10c",
       "version_major": 2,
       "version_minor": 0
      },
      "text/plain": [
       "Uploading the dataset shards:   0%|          | 0/1 [00:00<?, ?it/s]"
      ]
     },
     "metadata": {},
     "output_type": "display_data"
    },
    {
     "data": {
      "application/vnd.jupyter.widget-view+json": {
       "model_id": "edd090305e3c4eb6b123e666a2904d46",
       "version_major": 2,
       "version_minor": 0
      },
      "text/plain": [
       "Creating parquet from Arrow format:   0%|          | 0/5 [00:00<?, ?ba/s]"
      ]
     },
     "metadata": {},
     "output_type": "display_data"
    },
    {
     "data": {
      "application/vnd.jupyter.widget-view+json": {
       "model_id": "0014110bc4f7416a8a9abba33ce5cc50",
       "version_major": 2,
       "version_minor": 0
      },
      "text/plain": [
       "Uploading the dataset shards:   0%|          | 0/1 [00:00<?, ?it/s]"
      ]
     },
     "metadata": {},
     "output_type": "display_data"
    },
    {
     "data": {
      "application/vnd.jupyter.widget-view+json": {
       "model_id": "21cdfe941c7a42af8e23ced397374d94",
       "version_major": 2,
       "version_minor": 0
      },
      "text/plain": [
       "Creating parquet from Arrow format:   0%|          | 0/1 [00:00<?, ?ba/s]"
      ]
     },
     "metadata": {},
     "output_type": "display_data"
    },
    {
     "data": {
      "text/plain": [
       "CommitInfo(commit_url='https://huggingface.co/datasets/marcov/NER_ENGLISH_ATIS/commit/7310f850280ff2b69f9004cdea0e2a6109839479', commit_message='Upload dataset', commit_description='', oid='7310f850280ff2b69f9004cdea0e2a6109839479', pr_url=None, pr_revision=None, pr_num=None)"
      ]
     },
     "execution_count": 5,
     "metadata": {},
     "output_type": "execute_result"
    }
   ],
   "source": [
    "ds.push_to_hub(\n",
    "    repo_id=f'{hub_username}/{corpus_name}',\n",
    "    private=True,\n",
    ")"
   ]
  },
  {
   "cell_type": "code",
   "execution_count": null,
   "id": "775d0ab6-51bd-44a6-b101-fa9e3507edb8",
   "metadata": {},
   "outputs": [],
   "source": []
  }
 ],
 "metadata": {
  "kernelspec": {
   "display_name": "Python 3 (ipykernel)",
   "language": "python",
   "name": "python3"
  },
  "language_info": {
   "codemirror_mode": {
    "name": "ipython",
    "version": 3
   },
   "file_extension": ".py",
   "mimetype": "text/x-python",
   "name": "python",
   "nbconvert_exporter": "python",
   "pygments_lexer": "ipython3",
   "version": "3.11.8"
  }
 },
 "nbformat": 4,
 "nbformat_minor": 5
}
