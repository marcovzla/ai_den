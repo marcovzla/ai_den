{
 "cells": [
  {
   "cell_type": "markdown",
   "id": "3daafc36-bfe9-4aed-8085-c64e8651dc0d",
   "metadata": {},
   "source": [
    "# WNUT 2020: Wet Lab Protocol\n",
    "\n",
    "- https://aclanthology.org/2020.wnut-1.33/\n",
    "- https://github.com/jeniyat/WNUT_2020_NER"
   ]
  },
  {
   "cell_type": "code",
   "execution_count": 1,
   "id": "133d1a00-4027-43e5-86cc-b5a9369fbd57",
   "metadata": {},
   "outputs": [],
   "source": [
    "from pathlib import Path\n",
    "\n",
    "data_dir = Path('../data')\n",
    "\n",
    "hub_username = 'marcov'\n",
    "\n",
    "corpus_name = 'NER_ENGLISH_WNUT_2020'\n",
    "corpus_url = 'https://github.com/jeniyat/WNUT_2020_NER/archive/master.zip'\n",
    "corpus_dir = data_dir / corpus_name\n",
    "corpus_dir.mkdir(parents=True, exist_ok=True)"
   ]
  },
  {
   "cell_type": "code",
   "execution_count": 2,
   "id": "ba6bd0e6-1ba8-40ba-900b-eba7170bb2f3",
   "metadata": {},
   "outputs": [
    {
     "name": "stdout",
     "output_type": "stream",
     "text": [
      "--2024-04-28 12:12:23--  https://github.com/jeniyat/WNUT_2020_NER/archive/master.zip\n",
      "Resolving github.com (github.com)... 140.82.114.4\n",
      "Connecting to github.com (github.com)|140.82.114.4|:443... connected.\n",
      "HTTP request sent, awaiting response... 302 Found\n",
      "Location: https://codeload.github.com/jeniyat/WNUT_2020_NER/zip/refs/heads/master [following]\n",
      "--2024-04-28 12:12:23--  https://codeload.github.com/jeniyat/WNUT_2020_NER/zip/refs/heads/master\n",
      "Resolving codeload.github.com (codeload.github.com)... 140.82.112.10\n",
      "Connecting to codeload.github.com (codeload.github.com)|140.82.112.10|:443... connected.\n",
      "HTTP request sent, awaiting response... 200 OK\n",
      "Length: unspecified [application/zip]\n",
      "Saving to: ‘../data/NER_ENGLISH_WNUT_2020/master.zip’\n",
      "\n",
      "master.zip              [               <=>  ]   6.69M  2.00MB/s    in 3.3s    \n",
      "\n",
      "2024-04-28 12:12:27 (2.00 MB/s) - ‘../data/NER_ENGLISH_WNUT_2020/master.zip’ saved [7015905]\n",
      "\n"
     ]
    }
   ],
   "source": [
    "!wget -nc {corpus_url} -P {corpus_dir}"
   ]
  },
  {
   "cell_type": "code",
   "execution_count": 6,
   "id": "c5c9da72-5af3-40c1-9574-25e7c33aa2d8",
   "metadata": {},
   "outputs": [],
   "source": [
    "from zipfile import ZipFile\n",
    "\n",
    "with ZipFile(corpus_dir / 'master.zip') as z:\n",
    "    z.extractall(corpus_dir)"
   ]
  },
  {
   "cell_type": "code",
   "execution_count": 7,
   "id": "5ead7682-7734-426e-9707-2b4c1227ce6e",
   "metadata": {},
   "outputs": [
    {
     "data": {
      "application/vnd.jupyter.widget-view+json": {
       "model_id": "a55de53ee8e543978151dd3e3dc2bcf8",
       "version_major": 2,
       "version_minor": 0
      },
      "text/plain": [
       "Generating train split: 0 examples [00:00, ? examples/s]"
      ]
     },
     "metadata": {},
     "output_type": "display_data"
    },
    {
     "data": {
      "application/vnd.jupyter.widget-view+json": {
       "model_id": "bf8ac37d4e8949ffab87bcce707f300d",
       "version_major": 2,
       "version_minor": 0
      },
      "text/plain": [
       "Generating train split: 0 examples [00:00, ? examples/s]"
      ]
     },
     "metadata": {},
     "output_type": "display_data"
    },
    {
     "data": {
      "application/vnd.jupyter.widget-view+json": {
       "model_id": "3191226182774574948ac10c5221759d",
       "version_major": 2,
       "version_minor": 0
      },
      "text/plain": [
       "Generating train split: 0 examples [00:00, ? examples/s]"
      ]
     },
     "metadata": {},
     "output_type": "display_data"
    },
    {
     "data": {
      "application/vnd.jupyter.widget-view+json": {
       "model_id": "871fb7e68b8c4d46ab6ee08e0c6ed03f",
       "version_major": 2,
       "version_minor": 0
      },
      "text/plain": [
       "Generating train split: 0 examples [00:00, ? examples/s]"
      ]
     },
     "metadata": {},
     "output_type": "display_data"
    },
    {
     "data": {
      "text/plain": [
       "DatasetDict({\n",
       "    train: Dataset({\n",
       "        features: ['file', 'text', 'ner'],\n",
       "        num_rows: 8444\n",
       "    })\n",
       "    validation: Dataset({\n",
       "        features: ['file', 'text', 'ner'],\n",
       "        num_rows: 2862\n",
       "    })\n",
       "    test: Dataset({\n",
       "        features: ['file', 'text', 'ner'],\n",
       "        num_rows: 2813\n",
       "    })\n",
       "    test_2020: Dataset({\n",
       "        features: ['file', 'text', 'ner'],\n",
       "        num_rows: 3562\n",
       "    })\n",
       "})"
      ]
     },
     "execution_count": 7,
     "metadata": {},
     "output_type": "execute_result"
    }
   ],
   "source": [
    "from ai_den.utils.datasets import read_conll_directory\n",
    "from datasets import DatasetDict\n",
    "\n",
    "column_format = {'text': 1, 'ner': 0}\n",
    "\n",
    "ds = DatasetDict({\n",
    "    'train': read_conll_directory(\n",
    "        path=corpus_dir,\n",
    "        glob='**/data/train_data/Conll_Format/*.txt',\n",
    "        columns=dict(text=0, ner=1),\n",
    "        filename_field='file',\n",
    "    ),\n",
    "    'validation': read_conll_directory(\n",
    "        path=corpus_dir,\n",
    "        glob='**/data/dev_data/Conll_Format/*.txt',\n",
    "        columns=dict(text=0, ner=1),\n",
    "        filename_field='file',\n",
    "    ),\n",
    "    'test': read_conll_directory(\n",
    "        path=corpus_dir,\n",
    "        glob='**/data/test_data/Conll_Format/*.txt',\n",
    "        columns=dict(text=0, ner=1),\n",
    "        filename_field='file',\n",
    "    ),\n",
    "    'test_2020': read_conll_directory(\n",
    "        path=corpus_dir,\n",
    "        glob='**/data/test_data_2020/Conll_Format/*.txt',\n",
    "        columns=dict(text=0, ner=1),\n",
    "        filename_field='file',\n",
    "    ),\n",
    "})\n",
    "\n",
    "ds"
   ]
  },
  {
   "cell_type": "code",
   "execution_count": 8,
   "id": "eaaee31f-046c-4b02-bbd2-97baf08b4356",
   "metadata": {},
   "outputs": [
    {
     "data": {
      "text/html": [
       "<div>\n",
       "<style scoped>\n",
       "    .dataframe tbody tr th:only-of-type {\n",
       "        vertical-align: middle;\n",
       "    }\n",
       "\n",
       "    .dataframe tbody tr th {\n",
       "        vertical-align: top;\n",
       "    }\n",
       "\n",
       "    .dataframe thead th {\n",
       "        text-align: right;\n",
       "    }\n",
       "</style>\n",
       "<table border=\"1\" class=\"dataframe\">\n",
       "  <thead>\n",
       "    <tr style=\"text-align: right;\">\n",
       "      <th></th>\n",
       "      <th>file</th>\n",
       "      <th>text</th>\n",
       "      <th>ner</th>\n",
       "    </tr>\n",
       "  </thead>\n",
       "  <tbody>\n",
       "    <tr>\n",
       "      <th>0</th>\n",
       "      <td>protocol_3_conll.txt</td>\n",
       "      <td>[Standard, RNA, Synthesis, (, E2050, )]</td>\n",
       "      <td>[O, B-Reagent, B-Method, O, O, O]</td>\n",
       "    </tr>\n",
       "    <tr>\n",
       "      <th>1</th>\n",
       "      <td>protocol_3_conll.txt</td>\n",
       "      <td>[Thaw, the, necessary, kit, components, .]</td>\n",
       "      <td>[B-Action, O, B-Modifier, B-Reagent, I-Reagent...</td>\n",
       "    </tr>\n",
       "    <tr>\n",
       "      <th>2</th>\n",
       "      <td>protocol_3_conll.txt</td>\n",
       "      <td>[Mix, and, pulse-spin, in, microfuge, to, coll...</td>\n",
       "      <td>[B-Action, O, B-Action, O, B-Device, O, B-Acti...</td>\n",
       "    </tr>\n",
       "    <tr>\n",
       "      <th>3</th>\n",
       "      <td>protocol_3_conll.txt</td>\n",
       "      <td>[Keep, on, ice, .]</td>\n",
       "      <td>[B-Action, O, B-Location, O]</td>\n",
       "    </tr>\n",
       "    <tr>\n",
       "      <th>4</th>\n",
       "      <td>protocol_3_conll.txt</td>\n",
       "      <td>[Assemble, the, reaction, at, room, temperatur...</td>\n",
       "      <td>[B-Action, O, B-Reagent, O, B-Temperature, I-T...</td>\n",
       "    </tr>\n",
       "    <tr>\n",
       "      <th>...</th>\n",
       "      <td>...</td>\n",
       "      <td>...</td>\n",
       "      <td>...</td>\n",
       "    </tr>\n",
       "    <tr>\n",
       "      <th>8439</th>\n",
       "      <td>protocol_622_conll.txt</td>\n",
       "      <td>[Mix, the, following, components, in, a, steri...</td>\n",
       "      <td>[B-Action, O, B-Modifier, B-Reagent, O, O, B-M...</td>\n",
       "    </tr>\n",
       "    <tr>\n",
       "      <th>8440</th>\n",
       "      <td>protocol_622_conll.txt</td>\n",
       "      <td>[Reactions, containing, restriction, enzyme, d...</td>\n",
       "      <td>[B-Reagent, O, B-Reagent, I-Reagent, I-Reagent...</td>\n",
       "    </tr>\n",
       "    <tr>\n",
       "      <th>8441</th>\n",
       "      <td>protocol_622_conll.txt</td>\n",
       "      <td>[Reactions, with, sheared/nebulized, DNA, or, ...</td>\n",
       "      <td>[B-Reagent, O, B-Reagent, I-Reagent, O, B-Reag...</td>\n",
       "    </tr>\n",
       "    <tr>\n",
       "      <th>8442</th>\n",
       "      <td>protocol_622_conll.txt</td>\n",
       "      <td>[Immediately, inactivate, enzyme, in, the, blu...</td>\n",
       "      <td>[B-Modifier, B-Action, B-Reagent, O, O, B-Meth...</td>\n",
       "    </tr>\n",
       "    <tr>\n",
       "      <th>8443</th>\n",
       "      <td>protocol_622_conll.txt</td>\n",
       "      <td>[Proceed, directly, to, the, ligation, step, u...</td>\n",
       "      <td>[B-Action, B-Modifier, O, O, B-Action, I-Actio...</td>\n",
       "    </tr>\n",
       "  </tbody>\n",
       "</table>\n",
       "<p>8444 rows × 3 columns</p>\n",
       "</div>"
      ],
      "text/plain": [
       "                        file  \\\n",
       "0       protocol_3_conll.txt   \n",
       "1       protocol_3_conll.txt   \n",
       "2       protocol_3_conll.txt   \n",
       "3       protocol_3_conll.txt   \n",
       "4       protocol_3_conll.txt   \n",
       "...                      ...   \n",
       "8439  protocol_622_conll.txt   \n",
       "8440  protocol_622_conll.txt   \n",
       "8441  protocol_622_conll.txt   \n",
       "8442  protocol_622_conll.txt   \n",
       "8443  protocol_622_conll.txt   \n",
       "\n",
       "                                                   text  \\\n",
       "0               [Standard, RNA, Synthesis, (, E2050, )]   \n",
       "1            [Thaw, the, necessary, kit, components, .]   \n",
       "2     [Mix, and, pulse-spin, in, microfuge, to, coll...   \n",
       "3                                    [Keep, on, ice, .]   \n",
       "4     [Assemble, the, reaction, at, room, temperatur...   \n",
       "...                                                 ...   \n",
       "8439  [Mix, the, following, components, in, a, steri...   \n",
       "8440  [Reactions, containing, restriction, enzyme, d...   \n",
       "8441  [Reactions, with, sheared/nebulized, DNA, or, ...   \n",
       "8442  [Immediately, inactivate, enzyme, in, the, blu...   \n",
       "8443  [Proceed, directly, to, the, ligation, step, u...   \n",
       "\n",
       "                                                    ner  \n",
       "0                     [O, B-Reagent, B-Method, O, O, O]  \n",
       "1     [B-Action, O, B-Modifier, B-Reagent, I-Reagent...  \n",
       "2     [B-Action, O, B-Action, O, B-Device, O, B-Acti...  \n",
       "3                          [B-Action, O, B-Location, O]  \n",
       "4     [B-Action, O, B-Reagent, O, B-Temperature, I-T...  \n",
       "...                                                 ...  \n",
       "8439  [B-Action, O, B-Modifier, B-Reagent, O, O, B-M...  \n",
       "8440  [B-Reagent, O, B-Reagent, I-Reagent, I-Reagent...  \n",
       "8441  [B-Reagent, O, B-Reagent, I-Reagent, O, B-Reag...  \n",
       "8442  [B-Modifier, B-Action, B-Reagent, O, O, B-Meth...  \n",
       "8443  [B-Action, B-Modifier, O, O, B-Action, I-Actio...  \n",
       "\n",
       "[8444 rows x 3 columns]"
      ]
     },
     "execution_count": 8,
     "metadata": {},
     "output_type": "execute_result"
    }
   ],
   "source": [
    "ds['train'].to_pandas()"
   ]
  },
  {
   "cell_type": "code",
   "execution_count": 9,
   "id": "64e9cb9b-c0e2-458b-9364-cf6192a4380f",
   "metadata": {},
   "outputs": [
    {
     "data": {
      "application/vnd.jupyter.widget-view+json": {
       "model_id": "14dd9347a2a3407582990d0d079512a9",
       "version_major": 2,
       "version_minor": 0
      },
      "text/plain": [
       "Uploading the dataset shards:   0%|          | 0/1 [00:00<?, ?it/s]"
      ]
     },
     "metadata": {},
     "output_type": "display_data"
    },
    {
     "data": {
      "application/vnd.jupyter.widget-view+json": {
       "model_id": "4192958875924da7b722d1f4861c8bb1",
       "version_major": 2,
       "version_minor": 0
      },
      "text/plain": [
       "Creating parquet from Arrow format:   0%|          | 0/9 [00:00<?, ?ba/s]"
      ]
     },
     "metadata": {},
     "output_type": "display_data"
    },
    {
     "data": {
      "application/vnd.jupyter.widget-view+json": {
       "model_id": "637fe90f71554288a7ed5909eda61679",
       "version_major": 2,
       "version_minor": 0
      },
      "text/plain": [
       "Uploading the dataset shards:   0%|          | 0/1 [00:00<?, ?it/s]"
      ]
     },
     "metadata": {},
     "output_type": "display_data"
    },
    {
     "data": {
      "application/vnd.jupyter.widget-view+json": {
       "model_id": "49912369c2614afb95cbc5e093ca5695",
       "version_major": 2,
       "version_minor": 0
      },
      "text/plain": [
       "Creating parquet from Arrow format:   0%|          | 0/3 [00:00<?, ?ba/s]"
      ]
     },
     "metadata": {},
     "output_type": "display_data"
    },
    {
     "data": {
      "application/vnd.jupyter.widget-view+json": {
       "model_id": "64563db4ce0a4b5aa1611567a64b4e34",
       "version_major": 2,
       "version_minor": 0
      },
      "text/plain": [
       "Uploading the dataset shards:   0%|          | 0/1 [00:00<?, ?it/s]"
      ]
     },
     "metadata": {},
     "output_type": "display_data"
    },
    {
     "data": {
      "application/vnd.jupyter.widget-view+json": {
       "model_id": "610b6a13a72d4a4484877840ba8d71f3",
       "version_major": 2,
       "version_minor": 0
      },
      "text/plain": [
       "Creating parquet from Arrow format:   0%|          | 0/3 [00:00<?, ?ba/s]"
      ]
     },
     "metadata": {},
     "output_type": "display_data"
    },
    {
     "data": {
      "application/vnd.jupyter.widget-view+json": {
       "model_id": "8fd13f2e1d4849358abcad6b9d1753ce",
       "version_major": 2,
       "version_minor": 0
      },
      "text/plain": [
       "Uploading the dataset shards:   0%|          | 0/1 [00:00<?, ?it/s]"
      ]
     },
     "metadata": {},
     "output_type": "display_data"
    },
    {
     "data": {
      "application/vnd.jupyter.widget-view+json": {
       "model_id": "6603431415c44cb1882910d562fc44fe",
       "version_major": 2,
       "version_minor": 0
      },
      "text/plain": [
       "Creating parquet from Arrow format:   0%|          | 0/4 [00:00<?, ?ba/s]"
      ]
     },
     "metadata": {},
     "output_type": "display_data"
    },
    {
     "data": {
      "text/plain": [
       "CommitInfo(commit_url='https://huggingface.co/datasets/marcov/NER_ENGLISH_WNUT_2020/commit/26842a879f13aed91a975b08e12ab3c5157f954b', commit_message='Upload dataset', commit_description='', oid='26842a879f13aed91a975b08e12ab3c5157f954b', pr_url=None, pr_revision=None, pr_num=None)"
      ]
     },
     "execution_count": 9,
     "metadata": {},
     "output_type": "execute_result"
    }
   ],
   "source": [
    "ds.push_to_hub(\n",
    "    repo_id=f'{hub_username}/{corpus_name}',\n",
    "    private=True,\n",
    ")"
   ]
  },
  {
   "cell_type": "code",
   "execution_count": null,
   "id": "217a32d2-d1b7-4e80-973d-bebd23e3cf19",
   "metadata": {},
   "outputs": [],
   "source": []
  }
 ],
 "metadata": {
  "kernelspec": {
   "display_name": "Python 3 (ipykernel)",
   "language": "python",
   "name": "python3"
  },
  "language_info": {
   "codemirror_mode": {
    "name": "ipython",
    "version": 3
   },
   "file_extension": ".py",
   "mimetype": "text/x-python",
   "name": "python",
   "nbconvert_exporter": "python",
   "pygments_lexer": "ipython3",
   "version": "3.11.8"
  }
 },
 "nbformat": 4,
 "nbformat_minor": 5
}
