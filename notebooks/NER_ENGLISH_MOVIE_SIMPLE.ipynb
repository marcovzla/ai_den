{
 "cells": [
  {
   "cell_type": "markdown",
   "id": "3daafc36-bfe9-4aed-8085-c64e8651dc0d",
   "metadata": {},
   "source": [
    "# MIT Movie Corpus\n",
    "\n",
    "The MIT Movie Corpus is a semantically tagged training and test corpus in BIO format. The eng corpus are simple queries, and the trivia10k13 corpus are more complex queries.\n",
    "\n",
    "- https://groups.csail.mit.edu/sls/downloads/\n",
    "- https://www.microsoft.com/en-us/research/publication/a-conversational-movie-search-system-based-on-conditional-random-fields/"
   ]
  },
  {
   "cell_type": "code",
   "execution_count": 1,
   "id": "133d1a00-4027-43e5-86cc-b5a9369fbd57",
   "metadata": {},
   "outputs": [],
   "source": [
    "from pathlib import Path\n",
    "\n",
    "data_dir = Path('../data')\n",
    "\n",
    "hub_username = 'marcov'\n",
    "\n",
    "corpus_name = 'NER_ENGLISH_MOVIE_SIMPLE'\n",
    "corpus_url = 'https://groups.csail.mit.edu/sls/downloads/movie'\n",
    "corpus_dir = data_dir / corpus_name\n",
    "corpus_dir.mkdir(parents=True, exist_ok=True)\n",
    "\n",
    "train_filename = 'engtrain.bio'\n",
    "test_filename = 'engtest.bio'"
   ]
  },
  {
   "cell_type": "code",
   "execution_count": 2,
   "id": "ba6bd0e6-1ba8-40ba-900b-eba7170bb2f3",
   "metadata": {},
   "outputs": [
    {
     "name": "stdout",
     "output_type": "stream",
     "text": [
      "--2024-04-28 11:58:49--  https://groups.csail.mit.edu/sls/downloads/movie/engtrain.bio\n",
      "Resolving groups.csail.mit.edu (groups.csail.mit.edu)... 128.30.2.44\n",
      "Connecting to groups.csail.mit.edu (groups.csail.mit.edu)|128.30.2.44|:443... connected.\n",
      "HTTP request sent, awaiting response... 200 OK\n",
      "Length: 1013492 (990K)\n",
      "Saving to: ‘../data/NER_ENGLISH_MOVIE_SIMPLE/engtrain.bio’\n",
      "\n",
      "engtrain.bio        100%[===================>] 989.74K   529KB/s    in 1.9s    \n",
      "\n",
      "2024-04-28 11:58:52 (529 KB/s) - ‘../data/NER_ENGLISH_MOVIE_SIMPLE/engtrain.bio’ saved [1013492/1013492]\n",
      "\n",
      "--2024-04-28 11:58:52--  https://groups.csail.mit.edu/sls/downloads/movie/engtest.bio\n",
      "Resolving groups.csail.mit.edu (groups.csail.mit.edu)... 128.30.2.44\n",
      "Connecting to groups.csail.mit.edu (groups.csail.mit.edu)|128.30.2.44|:443... connected.\n",
      "HTTP request sent, awaiting response... 200 OK\n",
      "Length: 252636 (247K)\n",
      "Saving to: ‘../data/NER_ENGLISH_MOVIE_SIMPLE/engtest.bio’\n",
      "\n",
      "engtest.bio         100%[===================>] 246.71K   431KB/s    in 0.6s    \n",
      "\n",
      "2024-04-28 11:58:53 (431 KB/s) - ‘../data/NER_ENGLISH_MOVIE_SIMPLE/engtest.bio’ saved [252636/252636]\n",
      "\n"
     ]
    }
   ],
   "source": [
    "!wget -nc {corpus_url}/{train_filename} -P {corpus_dir}\n",
    "!wget -nc {corpus_url}/{test_filename} -P {corpus_dir}"
   ]
  },
  {
   "cell_type": "code",
   "execution_count": 3,
   "id": "5ead7682-7734-426e-9707-2b4c1227ce6e",
   "metadata": {},
   "outputs": [
    {
     "data": {
      "text/plain": [
       "DatasetDict({\n",
       "    train: Dataset({\n",
       "        features: ['text', 'ner'],\n",
       "        num_rows: 9775\n",
       "    })\n",
       "    test: Dataset({\n",
       "        features: ['text', 'ner'],\n",
       "        num_rows: 2443\n",
       "    })\n",
       "})"
      ]
     },
     "execution_count": 3,
     "metadata": {},
     "output_type": "execute_result"
    }
   ],
   "source": [
    "from ai_den.utils.datasets import read_conll_file\n",
    "from datasets import DatasetDict\n",
    "\n",
    "column_format = {'text': 1, 'ner': 0}\n",
    "\n",
    "ds = DatasetDict({\n",
    "    'train': read_conll_file(corpus_dir / train_filename, column_format),\n",
    "    'test': read_conll_file(corpus_dir / test_filename, column_format),\n",
    "})\n",
    "\n",
    "ds"
   ]
  },
  {
   "cell_type": "code",
   "execution_count": 4,
   "id": "eaaee31f-046c-4b02-bbd2-97baf08b4356",
   "metadata": {},
   "outputs": [
    {
     "data": {
      "text/html": [
       "<div>\n",
       "<style scoped>\n",
       "    .dataframe tbody tr th:only-of-type {\n",
       "        vertical-align: middle;\n",
       "    }\n",
       "\n",
       "    .dataframe tbody tr th {\n",
       "        vertical-align: top;\n",
       "    }\n",
       "\n",
       "    .dataframe thead th {\n",
       "        text-align: right;\n",
       "    }\n",
       "</style>\n",
       "<table border=\"1\" class=\"dataframe\">\n",
       "  <thead>\n",
       "    <tr style=\"text-align: right;\">\n",
       "      <th></th>\n",
       "      <th>text</th>\n",
       "      <th>ner</th>\n",
       "    </tr>\n",
       "  </thead>\n",
       "  <tbody>\n",
       "    <tr>\n",
       "      <th>0</th>\n",
       "      <td>[what, movies, star, bruce, willis]</td>\n",
       "      <td>[O, O, O, B-ACTOR, I-ACTOR]</td>\n",
       "    </tr>\n",
       "    <tr>\n",
       "      <th>1</th>\n",
       "      <td>[show, me, films, with, drew, barrymore, from,...</td>\n",
       "      <td>[O, O, O, O, B-ACTOR, I-ACTOR, O, O, B-YEAR]</td>\n",
       "    </tr>\n",
       "    <tr>\n",
       "      <th>2</th>\n",
       "      <td>[what, movies, starred, both, al, pacino, and,...</td>\n",
       "      <td>[O, O, O, O, B-ACTOR, I-ACTOR, O, B-ACTOR, I-A...</td>\n",
       "    </tr>\n",
       "    <tr>\n",
       "      <th>3</th>\n",
       "      <td>[find, me, all, of, the, movies, that, starred...</td>\n",
       "      <td>[O, O, O, O, O, O, O, O, B-ACTOR, I-ACTOR, O, ...</td>\n",
       "    </tr>\n",
       "    <tr>\n",
       "      <th>4</th>\n",
       "      <td>[find, me, a, movie, with, a, quote, about, ba...</td>\n",
       "      <td>[O, O, O, O, O, O, O, O, O, O, O]</td>\n",
       "    </tr>\n",
       "    <tr>\n",
       "      <th>...</th>\n",
       "      <td>...</td>\n",
       "      <td>...</td>\n",
       "    </tr>\n",
       "    <tr>\n",
       "      <th>9770</th>\n",
       "      <td>[what, did, people, say, about, shadow, of, th...</td>\n",
       "      <td>[O, O, O, B-REVIEW, I-REVIEW, B-TITLE, I-TITLE...</td>\n",
       "    </tr>\n",
       "    <tr>\n",
       "      <th>9771</th>\n",
       "      <td>[show, me, the, reviews, about, road, kill]</td>\n",
       "      <td>[O, O, O, B-REVIEW, O, B-TITLE, I-TITLE]</td>\n",
       "    </tr>\n",
       "    <tr>\n",
       "      <th>9772</th>\n",
       "      <td>[what, do, people, think, of, the, movie, alic...</td>\n",
       "      <td>[O, O, O, B-REVIEW, I-REVIEW, O, O, B-TITLE, I...</td>\n",
       "    </tr>\n",
       "    <tr>\n",
       "      <th>9773</th>\n",
       "      <td>[show, me, the, movie, with, sherlock, holmes,...</td>\n",
       "      <td>[O, O, O, O, O, B-CHARACTER, I-CHARACTER, O, O...</td>\n",
       "    </tr>\n",
       "    <tr>\n",
       "      <th>9774</th>\n",
       "      <td>[i, want, to, find, the, movie, with, scarlett...</td>\n",
       "      <td>[O, O, O, O, O, O, O, B-CHARACTER, I-CHARACTER...</td>\n",
       "    </tr>\n",
       "  </tbody>\n",
       "</table>\n",
       "<p>9775 rows × 2 columns</p>\n",
       "</div>"
      ],
      "text/plain": [
       "                                                   text  \\\n",
       "0                   [what, movies, star, bruce, willis]   \n",
       "1     [show, me, films, with, drew, barrymore, from,...   \n",
       "2     [what, movies, starred, both, al, pacino, and,...   \n",
       "3     [find, me, all, of, the, movies, that, starred...   \n",
       "4     [find, me, a, movie, with, a, quote, about, ba...   \n",
       "...                                                 ...   \n",
       "9770  [what, did, people, say, about, shadow, of, th...   \n",
       "9771        [show, me, the, reviews, about, road, kill]   \n",
       "9772  [what, do, people, think, of, the, movie, alic...   \n",
       "9773  [show, me, the, movie, with, sherlock, holmes,...   \n",
       "9774  [i, want, to, find, the, movie, with, scarlett...   \n",
       "\n",
       "                                                    ner  \n",
       "0                           [O, O, O, B-ACTOR, I-ACTOR]  \n",
       "1          [O, O, O, O, B-ACTOR, I-ACTOR, O, O, B-YEAR]  \n",
       "2     [O, O, O, O, B-ACTOR, I-ACTOR, O, B-ACTOR, I-A...  \n",
       "3     [O, O, O, O, O, O, O, O, B-ACTOR, I-ACTOR, O, ...  \n",
       "4                     [O, O, O, O, O, O, O, O, O, O, O]  \n",
       "...                                                 ...  \n",
       "9770  [O, O, O, B-REVIEW, I-REVIEW, B-TITLE, I-TITLE...  \n",
       "9771           [O, O, O, B-REVIEW, O, B-TITLE, I-TITLE]  \n",
       "9772  [O, O, O, B-REVIEW, I-REVIEW, O, O, B-TITLE, I...  \n",
       "9773  [O, O, O, O, O, B-CHARACTER, I-CHARACTER, O, O...  \n",
       "9774  [O, O, O, O, O, O, O, B-CHARACTER, I-CHARACTER...  \n",
       "\n",
       "[9775 rows x 2 columns]"
      ]
     },
     "execution_count": 4,
     "metadata": {},
     "output_type": "execute_result"
    }
   ],
   "source": [
    "ds['train'].to_pandas()"
   ]
  },
  {
   "cell_type": "code",
   "execution_count": 5,
   "id": "64e9cb9b-c0e2-458b-9364-cf6192a4380f",
   "metadata": {},
   "outputs": [
    {
     "data": {
      "application/vnd.jupyter.widget-view+json": {
       "model_id": "5d2b7ecff09c42e98203bf0f5a264049",
       "version_major": 2,
       "version_minor": 0
      },
      "text/plain": [
       "Uploading the dataset shards:   0%|          | 0/1 [00:00<?, ?it/s]"
      ]
     },
     "metadata": {},
     "output_type": "display_data"
    },
    {
     "data": {
      "application/vnd.jupyter.widget-view+json": {
       "model_id": "76307171c2ad4926889c5bdf3a21cbf6",
       "version_major": 2,
       "version_minor": 0
      },
      "text/plain": [
       "Creating parquet from Arrow format:   0%|          | 0/10 [00:00<?, ?ba/s]"
      ]
     },
     "metadata": {},
     "output_type": "display_data"
    },
    {
     "data": {
      "application/vnd.jupyter.widget-view+json": {
       "model_id": "f680b52d9a1e4ee4bbc1a6d062337c9f",
       "version_major": 2,
       "version_minor": 0
      },
      "text/plain": [
       "Uploading the dataset shards:   0%|          | 0/1 [00:00<?, ?it/s]"
      ]
     },
     "metadata": {},
     "output_type": "display_data"
    },
    {
     "data": {
      "application/vnd.jupyter.widget-view+json": {
       "model_id": "4b4148de98ef46a79606f8dd1319890b",
       "version_major": 2,
       "version_minor": 0
      },
      "text/plain": [
       "Creating parquet from Arrow format:   0%|          | 0/3 [00:00<?, ?ba/s]"
      ]
     },
     "metadata": {},
     "output_type": "display_data"
    },
    {
     "data": {
      "text/plain": [
       "CommitInfo(commit_url='https://huggingface.co/datasets/marcov/NER_ENGLISH_MOVIE_SIMPLE/commit/613c5c6f02804334e5cc98ce39269cc50c4ad160', commit_message='Upload dataset', commit_description='', oid='613c5c6f02804334e5cc98ce39269cc50c4ad160', pr_url=None, pr_revision=None, pr_num=None)"
      ]
     },
     "execution_count": 5,
     "metadata": {},
     "output_type": "execute_result"
    }
   ],
   "source": [
    "ds.push_to_hub(\n",
    "    repo_id=f'{hub_username}/{corpus_name}',\n",
    "    private=True,\n",
    ")"
   ]
  },
  {
   "cell_type": "code",
   "execution_count": null,
   "id": "217a32d2-d1b7-4e80-973d-bebd23e3cf19",
   "metadata": {},
   "outputs": [],
   "source": []
  }
 ],
 "metadata": {
  "kernelspec": {
   "display_name": "Python 3 (ipykernel)",
   "language": "python",
   "name": "python3"
  },
  "language_info": {
   "codemirror_mode": {
    "name": "ipython",
    "version": 3
   },
   "file_extension": ".py",
   "mimetype": "text/x-python",
   "name": "python",
   "nbconvert_exporter": "python",
   "pygments_lexer": "ipython3",
   "version": "3.11.8"
  }
 },
 "nbformat": 4,
 "nbformat_minor": 5
}
