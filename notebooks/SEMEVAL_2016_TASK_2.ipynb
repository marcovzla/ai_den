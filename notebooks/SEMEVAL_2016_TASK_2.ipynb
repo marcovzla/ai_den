{
 "cells": [
  {
   "cell_type": "markdown",
   "id": "9f71a198-a532-4359-9e4f-90742e0351d2",
   "metadata": {},
   "source": [
    "# SemEval-2016 Task 2: Interpretable Semantic Textual Similarity\n",
    "\n",
    "- https://aclanthology.org/S16-1082/\n",
    "- https://alt.qcri.org/semeval2016/task2/"
   ]
  },
  {
   "cell_type": "code",
   "execution_count": 1,
   "id": "9ba6228b-1cf0-47f1-9171-d6dce7ce0173",
   "metadata": {},
   "outputs": [],
   "source": [
    "from pathlib import Path\n",
    "\n",
    "data_dir = Path('../data')\n",
    "\n",
    "hub_username = 'marcov'\n",
    "\n",
    "corpus_name = 'SEMEVAL_2016_TASK_2'\n",
    "corpus_url = 'http://alt.qcri.org/semeval2016/task2/data/uploads/train_2015_10_22.utf-8.tar.gz'\n",
    "corpus_filename = 'train_2015_10_22.utf-8.tar.gz'\n",
    "corpus_dir = data_dir / corpus_name\n",
    "corpus_dir.mkdir(parents=True, exist_ok=True)\n",
    "\n",
    "headlines_path = corpus_dir / 'train_2015_10_22.utf-8' / 'STSint.input.headlines.wa'\n",
    "images_path = corpus_dir / 'train_2015_10_22.utf-8' / 'STSint.input.images.wa'"
   ]
  },
  {
   "cell_type": "code",
   "execution_count": 2,
   "id": "648554e6-15d3-4a47-b664-a3b720c13574",
   "metadata": {},
   "outputs": [
    {
     "name": "stdout",
     "output_type": "stream",
     "text": [
      "--2024-05-08 11:25:17--  http://alt.qcri.org/semeval2016/task2/data/uploads/train_2015_10_22.utf-8.tar.gz\n",
      "Resolving alt.qcri.org (alt.qcri.org)... 37.186.61.205\n",
      "Connecting to alt.qcri.org (alt.qcri.org)|37.186.61.205|:80... connected.\n",
      "HTTP request sent, awaiting response... 302 Moved Temporarily\n",
      "Location: https://alt.qcri.org/semeval2016/task2/data/uploads/train_2015_10_22.utf-8.tar.gz [following]\n",
      "--2024-05-08 11:25:18--  https://alt.qcri.org/semeval2016/task2/data/uploads/train_2015_10_22.utf-8.tar.gz\n",
      "Connecting to alt.qcri.org (alt.qcri.org)|37.186.61.205|:443... connected.\n",
      "HTTP request sent, awaiting response... 200 OK\n",
      "Length: 322368 (315K) [application/x-gzip]\n",
      "Saving to: ‘../data/SEMEVAL_2016_TASK_2/train_2015_10_22.utf-8.tar.gz’\n",
      "\n",
      "train_2015_10_22.ut 100%[===================>] 314.81K   372KB/s    in 0.8s    \n",
      "\n",
      "2024-05-08 11:25:22 (372 KB/s) - ‘../data/SEMEVAL_2016_TASK_2/train_2015_10_22.utf-8.tar.gz’ saved [322368/322368]\n",
      "\n",
      "x train_2015_10_22.utf-8/STSint.input.headlines.wa\n",
      "x train_2015_10_22.utf-8/00-readme.txt\n",
      "x train_2015_10_22.utf-8/STSint.input.images.wa\n",
      "x train_2015_10_22.utf-8/STSint.input.headlines.sent2.chunk.txt\n",
      "x train_2015_10_22.utf-8/STSint.input.images.sent2.chunk.txt\n",
      "x train_2015_10_22.utf-8/\n",
      "x train_2015_10_22.utf-8/STSint.input.headlines.sent1.txt\n",
      "x train_2015_10_22.utf-8/STSint.input.images.sent2.txt\n",
      "x train_2015_10_22.utf-8/evalF1.pl\n",
      "x train_2015_10_22.utf-8/STSint.input.headlines.sent1.chunk.txt\n",
      "x train_2015_10_22.utf-8/STSint.input.images.sent1.chunk.txt\n",
      "x train_2015_10_22.utf-8/wellformed.pl\n",
      "x train_2015_10_22.utf-8/STSint.input.headlines.sent2.txt\n",
      "x train_2015_10_22.utf-8/STSint.input.images.sent1.txt\n"
     ]
    }
   ],
   "source": [
    "!wget -nc {corpus_url} -P {corpus_dir}\n",
    "!tar xzvf {corpus_dir}/{corpus_filename} -C {corpus_dir}"
   ]
  },
  {
   "cell_type": "code",
   "execution_count": 3,
   "id": "3bddcc64-4cfd-41d8-b6a5-bfab822ba15d",
   "metadata": {},
   "outputs": [],
   "source": [
    "import re\n",
    "from datasets import Dataset\n",
    "\n",
    "sentence_pattern = re.compile(r\"\"\"\n",
    "<sentence \\s id=\"(?P<id>[^\"]*)\" \\s status=\"(?P<status>[^\"]*)\"> \\s*\n",
    "// (?P<sent1>.*?) \\s*\n",
    "// (?P<sent2>.*?) \\s*\n",
    "<source>(?P<source>.*?)</source> \\s*\n",
    "<translation>(?P<translation>.*?)</translation> \\s*\n",
    "<alignment>(?P<alignment>.*?)</alignment> \\s*\n",
    "</sentence>\n",
    "\"\"\", re.DOTALL | re.VERBOSE)\n",
    "\n",
    "def load_dataset(path):\n",
    "    return Dataset.from_list([\n",
    "        parse_match(m)\n",
    "        for m in sentence_pattern.finditer(path.read_text())\n",
    "    ])\n",
    "\n",
    "def parse_match(m):\n",
    "    alignment_id = m['id']\n",
    "    sent1 = m['sent1'].strip()\n",
    "    sent2 = m['sent2'].strip()\n",
    "    return {\n",
    "        'id': int(m['id']),\n",
    "        'sent1': m['sent1'].strip(),\n",
    "        'sent2': m['sent2'].strip(),\n",
    "        'sent1_tokens': parse_tokens(m['source']),\n",
    "        'sent2_tokens': parse_tokens(m['translation']),\n",
    "        'alignment': parse_alignment(m['alignment']),\n",
    "    }\n",
    "\n",
    "def parse_tokens(text):\n",
    "    tokens = [None]\n",
    "    for line in text.strip().splitlines():\n",
    "        token_id, token = line.split()[:2]\n",
    "        assert int(token_id) == len(tokens)\n",
    "        tokens.append(token)\n",
    "    return tokens\n",
    "\n",
    "def parse_alignment(text):\n",
    "    alignments = []\n",
    "    for line in text.strip().splitlines():\n",
    "        token_ids, label, score, _ = line.split(' // ')\n",
    "        sent1, sent2 = token_ids.split(' <==> ')\n",
    "        alignments.append({\n",
    "            'label': label,\n",
    "            'score': 0 if score == 'NIL' else int(score),\n",
    "            'sent1': [int(n) for n in sent1.split()],\n",
    "            'sent2': [int(n) for n in sent2.split()],\n",
    "        })\n",
    "    return alignments"
   ]
  },
  {
   "cell_type": "code",
   "execution_count": 4,
   "id": "6a05e92c-4247-49f1-9fac-7f51e3d2941c",
   "metadata": {},
   "outputs": [
    {
     "data": {
      "text/plain": [
       "DatasetDict({\n",
       "    headlines: Dataset({\n",
       "        features: ['id', 'sent1', 'sent2', 'sent1_tokens', 'sent2_tokens', 'alignment'],\n",
       "        num_rows: 756\n",
       "    })\n",
       "    images: Dataset({\n",
       "        features: ['id', 'sent1', 'sent2', 'sent1_tokens', 'sent2_tokens', 'alignment'],\n",
       "        num_rows: 750\n",
       "    })\n",
       "})"
      ]
     },
     "execution_count": 4,
     "metadata": {},
     "output_type": "execute_result"
    }
   ],
   "source": [
    "from datasets import DatasetDict\n",
    "\n",
    "ds = DatasetDict({\n",
    "    'headlines': load_dataset(headlines_path),\n",
    "    'images': load_dataset(images_path),\n",
    "})\n",
    "\n",
    "ds"
   ]
  },
  {
   "cell_type": "code",
   "execution_count": 5,
   "id": "4dfb8ae4-356b-400b-a7ac-dc70b192004c",
   "metadata": {},
   "outputs": [
    {
     "data": {
      "text/html": [
       "<div>\n",
       "<style scoped>\n",
       "    .dataframe tbody tr th:only-of-type {\n",
       "        vertical-align: middle;\n",
       "    }\n",
       "\n",
       "    .dataframe tbody tr th {\n",
       "        vertical-align: top;\n",
       "    }\n",
       "\n",
       "    .dataframe thead th {\n",
       "        text-align: right;\n",
       "    }\n",
       "</style>\n",
       "<table border=\"1\" class=\"dataframe\">\n",
       "  <thead>\n",
       "    <tr style=\"text-align: right;\">\n",
       "      <th></th>\n",
       "      <th>id</th>\n",
       "      <th>sent1</th>\n",
       "      <th>sent2</th>\n",
       "      <th>sent1_tokens</th>\n",
       "      <th>sent2_tokens</th>\n",
       "      <th>alignment</th>\n",
       "    </tr>\n",
       "  </thead>\n",
       "  <tbody>\n",
       "    <tr>\n",
       "      <th>0</th>\n",
       "      <td>1</td>\n",
       "      <td>Former Nazi death camp guard Demjanjuk dead at 91</td>\n",
       "      <td>John Demjanjuk , convicted Nazi death camp gua...</td>\n",
       "      <td>[None, Former, Nazi, death, camp, guard, Demja...</td>\n",
       "      <td>[None, John, Demjanjuk, ,, convicted, Nazi, de...</td>\n",
       "      <td>[{'label': 'EQUI', 'score': 5, 'sent1': [8, 9]...</td>\n",
       "    </tr>\n",
       "    <tr>\n",
       "      <th>1</th>\n",
       "      <td>2</td>\n",
       "      <td>Saudis to permit women to compete in Olympics</td>\n",
       "      <td>Saudi Women Allowed To Compete At Olympics</td>\n",
       "      <td>[None, Saudis, to, permit, women, to, compete,...</td>\n",
       "      <td>[None, Saudi, Women, Allowed, To, Compete, At,...</td>\n",
       "      <td>[{'label': 'EQUI', 'score': 5, 'sent1': [5, 6]...</td>\n",
       "    </tr>\n",
       "    <tr>\n",
       "      <th>2</th>\n",
       "      <td>3</td>\n",
       "      <td>US drone strike kills 5 militants in Pakistan</td>\n",
       "      <td>Drone strike kills four suspected militants in...</td>\n",
       "      <td>[None, US, drone, strike, kills, 5, militants,...</td>\n",
       "      <td>[None, Drone, strike, kills, four, suspected, ...</td>\n",
       "      <td>[{'label': 'EQUI', 'score': 5, 'sent1': [4], '...</td>\n",
       "    </tr>\n",
       "    <tr>\n",
       "      <th>3</th>\n",
       "      <td>4</td>\n",
       "      <td>Syria peace plan conditions \" unacceptable , \"...</td>\n",
       "      <td>Syria peace dashed as deadline passes</td>\n",
       "      <td>[None, Syria, peace, plan, conditions, \", unac...</td>\n",
       "      <td>[None, Syria, peace, dashed, as, deadline, pas...</td>\n",
       "      <td>[{'label': 'NOALI', 'score': 0, 'sent1': [10],...</td>\n",
       "    </tr>\n",
       "    <tr>\n",
       "      <th>4</th>\n",
       "      <td>5</td>\n",
       "      <td>Syrian regime denies role in Houla massacre</td>\n",
       "      <td>Syria blames rebels for Houla massacre of over...</td>\n",
       "      <td>[None, Syrian, regime, denies, role, in, Houla...</td>\n",
       "      <td>[None, Syria, blames, rebels, for, Houla, mass...</td>\n",
       "      <td>[{'label': 'NOALI', 'score': 0, 'sent1': [3], ...</td>\n",
       "    </tr>\n",
       "    <tr>\n",
       "      <th>...</th>\n",
       "      <td>...</td>\n",
       "      <td>...</td>\n",
       "      <td>...</td>\n",
       "      <td>...</td>\n",
       "      <td>...</td>\n",
       "      <td>...</td>\n",
       "    </tr>\n",
       "    <tr>\n",
       "      <th>751</th>\n",
       "      <td>752</td>\n",
       "      <td>US Senator McCain meets opposition leaders in ...</td>\n",
       "      <td>SFG meeting reviews situation in Mali</td>\n",
       "      <td>[None, US, Senator, McCain, meets, opposition,...</td>\n",
       "      <td>[None, SFG, meeting, reviews, situation, in, M...</td>\n",
       "      <td>[{'label': 'NOALI', 'score': 0, 'sent1': [4], ...</td>\n",
       "    </tr>\n",
       "    <tr>\n",
       "      <th>752</th>\n",
       "      <td>753</td>\n",
       "      <td>Tens of Thousands of Ukrainians Protest in Kyiv</td>\n",
       "      <td>Tens of thousands line up to cast votes in Bhutan</td>\n",
       "      <td>[None, Tens, of, Thousands, of, Ukrainians, Pr...</td>\n",
       "      <td>[None, Tens, of, thousands, line, up, to, cast...</td>\n",
       "      <td>[{'label': 'NOALI', 'score': 0, 'sent1': [4, 5...</td>\n",
       "    </tr>\n",
       "    <tr>\n",
       "      <th>753</th>\n",
       "      <td>754</td>\n",
       "      <td>Obama pledges to reignite economy</td>\n",
       "      <td>Obama to press Congress to act on economy</td>\n",
       "      <td>[None, Obama, pledges, to, reignite, economy]</td>\n",
       "      <td>[None, Obama, to, press, Congress, to, act, on...</td>\n",
       "      <td>[{'label': 'NOALI', 'score': 0, 'sent1': [0], ...</td>\n",
       "    </tr>\n",
       "    <tr>\n",
       "      <th>754</th>\n",
       "      <td>755</td>\n",
       "      <td>Pak missions in UAE gear up for elections</td>\n",
       "      <td>Islamist parties in Egypt unite for elections</td>\n",
       "      <td>[None, Pak, missions, in, UAE, gear, up, for, ...</td>\n",
       "      <td>[None, Islamist, parties, in, Egypt, unite, fo...</td>\n",
       "      <td>[{'label': 'SIMI', 'score': 2, 'sent1': [3, 4]...</td>\n",
       "    </tr>\n",
       "    <tr>\n",
       "      <th>755</th>\n",
       "      <td>756</td>\n",
       "      <td>Police question man in deadly LA boardwalk crash</td>\n",
       "      <td>Police arrest suspect in deadly LA driving attack</td>\n",
       "      <td>[None, Police, question, man, in, deadly, LA, ...</td>\n",
       "      <td>[None, Police, arrest, suspect, in, deadly, LA...</td>\n",
       "      <td>[{'label': 'SPE1', 'score': 4, 'sent1': [2], '...</td>\n",
       "    </tr>\n",
       "  </tbody>\n",
       "</table>\n",
       "<p>756 rows × 6 columns</p>\n",
       "</div>"
      ],
      "text/plain": [
       "      id                                              sent1  \\\n",
       "0      1  Former Nazi death camp guard Demjanjuk dead at 91   \n",
       "1      2      Saudis to permit women to compete in Olympics   \n",
       "2      3      US drone strike kills 5 militants in Pakistan   \n",
       "3      4  Syria peace plan conditions \" unacceptable , \"...   \n",
       "4      5        Syrian regime denies role in Houla massacre   \n",
       "..   ...                                                ...   \n",
       "751  752  US Senator McCain meets opposition leaders in ...   \n",
       "752  753    Tens of Thousands of Ukrainians Protest in Kyiv   \n",
       "753  754                  Obama pledges to reignite economy   \n",
       "754  755          Pak missions in UAE gear up for elections   \n",
       "755  756   Police question man in deadly LA boardwalk crash   \n",
       "\n",
       "                                                 sent2  \\\n",
       "0    John Demjanjuk , convicted Nazi death camp gua...   \n",
       "1           Saudi Women Allowed To Compete At Olympics   \n",
       "2    Drone strike kills four suspected militants in...   \n",
       "3                Syria peace dashed as deadline passes   \n",
       "4    Syria blames rebels for Houla massacre of over...   \n",
       "..                                                 ...   \n",
       "751              SFG meeting reviews situation in Mali   \n",
       "752  Tens of thousands line up to cast votes in Bhutan   \n",
       "753          Obama to press Congress to act on economy   \n",
       "754      Islamist parties in Egypt unite for elections   \n",
       "755  Police arrest suspect in deadly LA driving attack   \n",
       "\n",
       "                                          sent1_tokens  \\\n",
       "0    [None, Former, Nazi, death, camp, guard, Demja...   \n",
       "1    [None, Saudis, to, permit, women, to, compete,...   \n",
       "2    [None, US, drone, strike, kills, 5, militants,...   \n",
       "3    [None, Syria, peace, plan, conditions, \", unac...   \n",
       "4    [None, Syrian, regime, denies, role, in, Houla...   \n",
       "..                                                 ...   \n",
       "751  [None, US, Senator, McCain, meets, opposition,...   \n",
       "752  [None, Tens, of, Thousands, of, Ukrainians, Pr...   \n",
       "753      [None, Obama, pledges, to, reignite, economy]   \n",
       "754  [None, Pak, missions, in, UAE, gear, up, for, ...   \n",
       "755  [None, Police, question, man, in, deadly, LA, ...   \n",
       "\n",
       "                                          sent2_tokens  \\\n",
       "0    [None, John, Demjanjuk, ,, convicted, Nazi, de...   \n",
       "1    [None, Saudi, Women, Allowed, To, Compete, At,...   \n",
       "2    [None, Drone, strike, kills, four, suspected, ...   \n",
       "3    [None, Syria, peace, dashed, as, deadline, pas...   \n",
       "4    [None, Syria, blames, rebels, for, Houla, mass...   \n",
       "..                                                 ...   \n",
       "751  [None, SFG, meeting, reviews, situation, in, M...   \n",
       "752  [None, Tens, of, thousands, line, up, to, cast...   \n",
       "753  [None, Obama, to, press, Congress, to, act, on...   \n",
       "754  [None, Islamist, parties, in, Egypt, unite, fo...   \n",
       "755  [None, Police, arrest, suspect, in, deadly, LA...   \n",
       "\n",
       "                                             alignment  \n",
       "0    [{'label': 'EQUI', 'score': 5, 'sent1': [8, 9]...  \n",
       "1    [{'label': 'EQUI', 'score': 5, 'sent1': [5, 6]...  \n",
       "2    [{'label': 'EQUI', 'score': 5, 'sent1': [4], '...  \n",
       "3    [{'label': 'NOALI', 'score': 0, 'sent1': [10],...  \n",
       "4    [{'label': 'NOALI', 'score': 0, 'sent1': [3], ...  \n",
       "..                                                 ...  \n",
       "751  [{'label': 'NOALI', 'score': 0, 'sent1': [4], ...  \n",
       "752  [{'label': 'NOALI', 'score': 0, 'sent1': [4, 5...  \n",
       "753  [{'label': 'NOALI', 'score': 0, 'sent1': [0], ...  \n",
       "754  [{'label': 'SIMI', 'score': 2, 'sent1': [3, 4]...  \n",
       "755  [{'label': 'SPE1', 'score': 4, 'sent1': [2], '...  \n",
       "\n",
       "[756 rows x 6 columns]"
      ]
     },
     "execution_count": 5,
     "metadata": {},
     "output_type": "execute_result"
    }
   ],
   "source": [
    "ds['headlines'].to_pandas()"
   ]
  },
  {
   "cell_type": "code",
   "execution_count": 6,
   "id": "146ef5f0-f402-4f44-ba46-2c9a8a75c213",
   "metadata": {},
   "outputs": [
    {
     "data": {
      "application/vnd.jupyter.widget-view+json": {
       "model_id": "3270f9b86c99425a91901d76cddf062f",
       "version_major": 2,
       "version_minor": 0
      },
      "text/plain": [
       "Uploading the dataset shards:   0%|          | 0/1 [00:00<?, ?it/s]"
      ]
     },
     "metadata": {},
     "output_type": "display_data"
    },
    {
     "data": {
      "application/vnd.jupyter.widget-view+json": {
       "model_id": "7eb8b1d86e7b4977a9a854a12443fd95",
       "version_major": 2,
       "version_minor": 0
      },
      "text/plain": [
       "Creating parquet from Arrow format:   0%|          | 0/1 [00:00<?, ?ba/s]"
      ]
     },
     "metadata": {},
     "output_type": "display_data"
    },
    {
     "data": {
      "application/vnd.jupyter.widget-view+json": {
       "model_id": "6c002f001b5847208ef8063b2ca06ff6",
       "version_major": 2,
       "version_minor": 0
      },
      "text/plain": [
       "Uploading the dataset shards:   0%|          | 0/1 [00:00<?, ?it/s]"
      ]
     },
     "metadata": {},
     "output_type": "display_data"
    },
    {
     "data": {
      "application/vnd.jupyter.widget-view+json": {
       "model_id": "cfa451508ae9431a87beced6fb497abe",
       "version_major": 2,
       "version_minor": 0
      },
      "text/plain": [
       "Creating parquet from Arrow format:   0%|          | 0/1 [00:00<?, ?ba/s]"
      ]
     },
     "metadata": {},
     "output_type": "display_data"
    },
    {
     "data": {
      "text/plain": [
       "CommitInfo(commit_url='https://huggingface.co/datasets/marcov/SEMEVAL_2016_TASK_2/commit/35a9118f7b6b9db6c1a11a57cb9b18a0c374287d', commit_message='Upload dataset', commit_description='', oid='35a9118f7b6b9db6c1a11a57cb9b18a0c374287d', pr_url=None, pr_revision=None, pr_num=None)"
      ]
     },
     "execution_count": 6,
     "metadata": {},
     "output_type": "execute_result"
    }
   ],
   "source": [
    "ds.push_to_hub(\n",
    "    repo_id=f'{hub_username}/{corpus_name}',\n",
    "    private=True,\n",
    ")"
   ]
  },
  {
   "cell_type": "code",
   "execution_count": null,
   "id": "0fec8c46-bd5a-44a4-930a-2ab184792043",
   "metadata": {},
   "outputs": [],
   "source": []
  }
 ],
 "metadata": {
  "kernelspec": {
   "display_name": "Python 3 (ipykernel)",
   "language": "python",
   "name": "python3"
  },
  "language_info": {
   "codemirror_mode": {
    "name": "ipython",
    "version": 3
   },
   "file_extension": ".py",
   "mimetype": "text/x-python",
   "name": "python",
   "nbconvert_exporter": "python",
   "pygments_lexer": "ipython3",
   "version": "3.11.8"
  }
 },
 "nbformat": 4,
 "nbformat_minor": 5
}
