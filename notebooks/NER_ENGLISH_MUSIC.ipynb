{
 "cells": [
  {
   "cell_type": "markdown",
   "id": "3daafc36-bfe9-4aed-8085-c64e8651dc0d",
   "metadata": {},
   "source": [
    "# Conversational Music Recommendation Queries\n",
    "\n",
    "- https://aclanthology.org/2023.eacl-main.92/\n",
    "- https://github.com/deezer/music-ner-eacl2023/tree/main/data"
   ]
  },
  {
   "cell_type": "code",
   "execution_count": 1,
   "id": "133d1a00-4027-43e5-86cc-b5a9369fbd57",
   "metadata": {},
   "outputs": [],
   "source": [
    "from pathlib import Path\n",
    "\n",
    "data_dir = Path('../data')\n",
    "\n",
    "hub_username = 'marcov'\n",
    "\n",
    "corpus_name = 'NER_ENGLISH_MUSIC'\n",
    "\n",
    "# TODO: datasets 2, 3, and 4\n",
    "corpus_url = 'https://raw.githubusercontent.com/deezer/music-ner-eacl2023/main/data/dataset1'\n",
    "corpus_dir = data_dir / corpus_name\n",
    "corpus_dir.mkdir(parents=True, exist_ok=True)\n",
    "\n",
    "train_filename = 'train.bio'\n",
    "test_filename = 'test.bio'"
   ]
  },
  {
   "cell_type": "code",
   "execution_count": 2,
   "id": "ba6bd0e6-1ba8-40ba-900b-eba7170bb2f3",
   "metadata": {},
   "outputs": [
    {
     "name": "stdout",
     "output_type": "stream",
     "text": [
      "--2024-04-28 12:39:03--  https://raw.githubusercontent.com/deezer/music-ner-eacl2023/main/data/dataset1/train.bio\n",
      "Resolving raw.githubusercontent.com (raw.githubusercontent.com)... 185.199.110.133, 185.199.108.133, 185.199.111.133, ...\n",
      "Connecting to raw.githubusercontent.com (raw.githubusercontent.com)|185.199.110.133|:443... connected.\n",
      "HTTP request sent, awaiting response... 200 OK\n",
      "Length: 160551 (157K) [text/plain]\n",
      "Saving to: ‘../data/NER_ENGLISH_MUSIC/train.bio’\n",
      "\n",
      "train.bio           100%[===================>] 156.79K  --.-KB/s    in 0.04s   \n",
      "\n",
      "2024-04-28 12:39:03 (3.75 MB/s) - ‘../data/NER_ENGLISH_MUSIC/train.bio’ saved [160551/160551]\n",
      "\n",
      "--2024-04-28 12:39:03--  https://raw.githubusercontent.com/deezer/music-ner-eacl2023/main/data/dataset1/test.bio\n",
      "Resolving raw.githubusercontent.com (raw.githubusercontent.com)... 185.199.111.133, 185.199.108.133, 185.199.109.133, ...\n",
      "Connecting to raw.githubusercontent.com (raw.githubusercontent.com)|185.199.111.133|:443... connected.\n",
      "HTTP request sent, awaiting response... 200 OK\n",
      "Length: 48544 (47K) [text/plain]\n",
      "Saving to: ‘../data/NER_ENGLISH_MUSIC/test.bio’\n",
      "\n",
      "test.bio            100%[===================>]  47.41K  --.-KB/s    in 0.1s    \n",
      "\n",
      "2024-04-28 12:39:04 (338 KB/s) - ‘../data/NER_ENGLISH_MUSIC/test.bio’ saved [48544/48544]\n",
      "\n"
     ]
    }
   ],
   "source": [
    "!wget -nc {corpus_url}/{train_filename} -P {corpus_dir}\n",
    "!wget -nc {corpus_url}/{test_filename} -P {corpus_dir}"
   ]
  },
  {
   "cell_type": "code",
   "execution_count": 3,
   "id": "5ead7682-7734-426e-9707-2b4c1227ce6e",
   "metadata": {},
   "outputs": [
    {
     "data": {
      "text/plain": [
       "DatasetDict({\n",
       "    train: Dataset({\n",
       "        features: ['text', 'ner'],\n",
       "        num_rows: 1951\n",
       "    })\n",
       "    test: Dataset({\n",
       "        features: ['text', 'ner'],\n",
       "        num_rows: 600\n",
       "    })\n",
       "})"
      ]
     },
     "execution_count": 3,
     "metadata": {},
     "output_type": "execute_result"
    }
   ],
   "source": [
    "from ai_den.utils.datasets import read_conll_file\n",
    "from datasets import DatasetDict\n",
    "\n",
    "column_format = {'text': 1, 'ner': 0}\n",
    "\n",
    "ds = DatasetDict({\n",
    "    'train': read_conll_file(corpus_dir / train_filename, column_format),\n",
    "    'test': read_conll_file(corpus_dir / test_filename, column_format),\n",
    "})\n",
    "\n",
    "ds"
   ]
  },
  {
   "cell_type": "code",
   "execution_count": 4,
   "id": "eaaee31f-046c-4b02-bbd2-97baf08b4356",
   "metadata": {},
   "outputs": [
    {
     "data": {
      "text/html": [
       "<div>\n",
       "<style scoped>\n",
       "    .dataframe tbody tr th:only-of-type {\n",
       "        vertical-align: middle;\n",
       "    }\n",
       "\n",
       "    .dataframe tbody tr th {\n",
       "        vertical-align: top;\n",
       "    }\n",
       "\n",
       "    .dataframe thead th {\n",
       "        text-align: right;\n",
       "    }\n",
       "</style>\n",
       "<table border=\"1\" class=\"dataframe\">\n",
       "  <thead>\n",
       "    <tr style=\"text-align: right;\">\n",
       "      <th></th>\n",
       "      <th>text</th>\n",
       "      <th>ner</th>\n",
       "    </tr>\n",
       "  </thead>\n",
       "  <tbody>\n",
       "    <tr>\n",
       "      <th>0</th>\n",
       "      <td>[O, O, O, O]</td>\n",
       "      <td>[dark, and, suspenseful, music]</td>\n",
       "    </tr>\n",
       "    <tr>\n",
       "      <th>1</th>\n",
       "      <td>[O, O, O, O, O, O, O, O, O, O, O, O, O, O]</td>\n",
       "      <td>[looking, for, great, post, metal, bands, |, m...</td>\n",
       "    </tr>\n",
       "    <tr>\n",
       "      <th>2</th>\n",
       "      <td>[O, O, O, O, O, O, O, O, O, O, O, O, O, O, O, O]</td>\n",
       "      <td>[looking, for, songs, similar, to, this, spars...</td>\n",
       "    </tr>\n",
       "    <tr>\n",
       "      <th>3</th>\n",
       "      <td>[O, O, O, O, O, O]</td>\n",
       "      <td>[blues, songs, by, non, blues, artists]</td>\n",
       "    </tr>\n",
       "    <tr>\n",
       "      <th>4</th>\n",
       "      <td>[O, O, O, O, O, O, O, B-WoA, I-WoA, I-WoA, O, ...</td>\n",
       "      <td>[very, specific, but, any, songs, similar, to,...</td>\n",
       "    </tr>\n",
       "    <tr>\n",
       "      <th>...</th>\n",
       "      <td>...</td>\n",
       "      <td>...</td>\n",
       "    </tr>\n",
       "    <tr>\n",
       "      <th>1946</th>\n",
       "      <td>[O, O, B-Artist, I-Artist, B-WoA]</td>\n",
       "      <td>[songs, like, sub, urbams, cradle]</td>\n",
       "    </tr>\n",
       "    <tr>\n",
       "      <th>1947</th>\n",
       "      <td>[O, O, O, B-WoA, I-WoA, I-WoA, O, B-Artist]</td>\n",
       "      <td>[songs, artists, like, quarter, past, midnight...</td>\n",
       "    </tr>\n",
       "    <tr>\n",
       "      <th>1948</th>\n",
       "      <td>[O, O, O]</td>\n",
       "      <td>[soft, voiced, vocals]</td>\n",
       "    </tr>\n",
       "    <tr>\n",
       "      <th>1949</th>\n",
       "      <td>[O, O, O, O, O, O, O, O, O, O, O, O]</td>\n",
       "      <td>[find, me, music, with, dark, lyrics, covered,...</td>\n",
       "    </tr>\n",
       "    <tr>\n",
       "      <th>1950</th>\n",
       "      <td>[O, O, O, O, O, O, O, O, O, O, O, O, O, O, O, ...</td>\n",
       "      <td>[looking, for, an, album, or, ep, in, cassette...</td>\n",
       "    </tr>\n",
       "  </tbody>\n",
       "</table>\n",
       "<p>1951 rows × 2 columns</p>\n",
       "</div>"
      ],
      "text/plain": [
       "                                                   text  \\\n",
       "0                                          [O, O, O, O]   \n",
       "1            [O, O, O, O, O, O, O, O, O, O, O, O, O, O]   \n",
       "2      [O, O, O, O, O, O, O, O, O, O, O, O, O, O, O, O]   \n",
       "3                                    [O, O, O, O, O, O]   \n",
       "4     [O, O, O, O, O, O, O, B-WoA, I-WoA, I-WoA, O, ...   \n",
       "...                                                 ...   \n",
       "1946                  [O, O, B-Artist, I-Artist, B-WoA]   \n",
       "1947        [O, O, O, B-WoA, I-WoA, I-WoA, O, B-Artist]   \n",
       "1948                                          [O, O, O]   \n",
       "1949               [O, O, O, O, O, O, O, O, O, O, O, O]   \n",
       "1950  [O, O, O, O, O, O, O, O, O, O, O, O, O, O, O, ...   \n",
       "\n",
       "                                                    ner  \n",
       "0                       [dark, and, suspenseful, music]  \n",
       "1     [looking, for, great, post, metal, bands, |, m...  \n",
       "2     [looking, for, songs, similar, to, this, spars...  \n",
       "3               [blues, songs, by, non, blues, artists]  \n",
       "4     [very, specific, but, any, songs, similar, to,...  \n",
       "...                                                 ...  \n",
       "1946                 [songs, like, sub, urbams, cradle]  \n",
       "1947  [songs, artists, like, quarter, past, midnight...  \n",
       "1948                             [soft, voiced, vocals]  \n",
       "1949  [find, me, music, with, dark, lyrics, covered,...  \n",
       "1950  [looking, for, an, album, or, ep, in, cassette...  \n",
       "\n",
       "[1951 rows x 2 columns]"
      ]
     },
     "execution_count": 4,
     "metadata": {},
     "output_type": "execute_result"
    }
   ],
   "source": [
    "ds['train'].to_pandas()"
   ]
  },
  {
   "cell_type": "code",
   "execution_count": 5,
   "id": "64e9cb9b-c0e2-458b-9364-cf6192a4380f",
   "metadata": {},
   "outputs": [
    {
     "data": {
      "application/vnd.jupyter.widget-view+json": {
       "model_id": "5114e33dd6be48afa3a617b318dfca27",
       "version_major": 2,
       "version_minor": 0
      },
      "text/plain": [
       "Uploading the dataset shards:   0%|          | 0/1 [00:00<?, ?it/s]"
      ]
     },
     "metadata": {},
     "output_type": "display_data"
    },
    {
     "data": {
      "application/vnd.jupyter.widget-view+json": {
       "model_id": "567c944202cb4351838287bbcdcd13d5",
       "version_major": 2,
       "version_minor": 0
      },
      "text/plain": [
       "Creating parquet from Arrow format:   0%|          | 0/2 [00:00<?, ?ba/s]"
      ]
     },
     "metadata": {},
     "output_type": "display_data"
    },
    {
     "data": {
      "application/vnd.jupyter.widget-view+json": {
       "model_id": "46d9d35a43444a76928fc148e57e924d",
       "version_major": 2,
       "version_minor": 0
      },
      "text/plain": [
       "Uploading the dataset shards:   0%|          | 0/1 [00:00<?, ?it/s]"
      ]
     },
     "metadata": {},
     "output_type": "display_data"
    },
    {
     "data": {
      "application/vnd.jupyter.widget-view+json": {
       "model_id": "2052b22085ae4c3da6e298f2fc140560",
       "version_major": 2,
       "version_minor": 0
      },
      "text/plain": [
       "Creating parquet from Arrow format:   0%|          | 0/1 [00:00<?, ?ba/s]"
      ]
     },
     "metadata": {},
     "output_type": "display_data"
    },
    {
     "data": {
      "text/plain": [
       "CommitInfo(commit_url='https://huggingface.co/datasets/marcov/NER_ENGLISH_MUSIC/commit/e82fcbc4835495de4c9fc4efda2d29b727a7d420', commit_message='Upload dataset', commit_description='', oid='e82fcbc4835495de4c9fc4efda2d29b727a7d420', pr_url=None, pr_revision=None, pr_num=None)"
      ]
     },
     "execution_count": 5,
     "metadata": {},
     "output_type": "execute_result"
    }
   ],
   "source": [
    "ds.push_to_hub(\n",
    "    repo_id=f'{hub_username}/{corpus_name}',\n",
    "    private=True,\n",
    ")"
   ]
  },
  {
   "cell_type": "code",
   "execution_count": null,
   "id": "217a32d2-d1b7-4e80-973d-bebd23e3cf19",
   "metadata": {},
   "outputs": [],
   "source": []
  }
 ],
 "metadata": {
  "kernelspec": {
   "display_name": "Python 3 (ipykernel)",
   "language": "python",
   "name": "python3"
  },
  "language_info": {
   "codemirror_mode": {
    "name": "ipython",
    "version": 3
   },
   "file_extension": ".py",
   "mimetype": "text/x-python",
   "name": "python",
   "nbconvert_exporter": "python",
   "pygments_lexer": "ipython3",
   "version": "3.11.8"
  }
 },
 "nbformat": 4,
 "nbformat_minor": 5
}
