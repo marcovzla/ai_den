{
 "cells": [
  {
   "cell_type": "markdown",
   "id": "3daafc36-bfe9-4aed-8085-c64e8651dc0d",
   "metadata": {},
   "source": [
    "# MIT Restaurant Corpus\n",
    "\n",
    "The MIT Restaurant Corpus is a semantically tagged training and test corpus in BIO format.\n",
    "\n",
    "- https://groups.csail.mit.edu/sls/downloads/"
   ]
  },
  {
   "cell_type": "code",
   "execution_count": 1,
   "id": "133d1a00-4027-43e5-86cc-b5a9369fbd57",
   "metadata": {},
   "outputs": [],
   "source": [
    "from pathlib import Path\n",
    "\n",
    "data_dir = Path('../data')\n",
    "\n",
    "hub_username = 'marcov'\n",
    "\n",
    "corpus_name = 'NER_ENGLISH_RESTAURANT'\n",
    "corpus_url = 'https://groups.csail.mit.edu/sls/downloads/restaurant'\n",
    "corpus_dir = data_dir / corpus_name\n",
    "corpus_dir.mkdir(parents=True, exist_ok=True)\n",
    "\n",
    "train_filename = 'restauranttrain.bio'\n",
    "test_filename = 'restauranttest.bio'"
   ]
  },
  {
   "cell_type": "code",
   "execution_count": 2,
   "id": "ba6bd0e6-1ba8-40ba-900b-eba7170bb2f3",
   "metadata": {},
   "outputs": [
    {
     "name": "stdout",
     "output_type": "stream",
     "text": [
      "--2024-04-28 12:17:38--  https://groups.csail.mit.edu/sls/downloads/restaurant/restauranttrain.bio\n",
      "Resolving groups.csail.mit.edu (groups.csail.mit.edu)... 128.30.2.44\n",
      "Connecting to groups.csail.mit.edu (groups.csail.mit.edu)|128.30.2.44|:443... connected.\n",
      "HTTP request sent, awaiting response... 200 OK\n",
      "Length: 759757 (742K)\n",
      "Saving to: ‘../data/NER_ENGLISH_RESTAURANT/restauranttrain.bio’\n",
      "\n",
      "restauranttrain.bio 100%[===================>] 741.95K   442KB/s    in 1.7s    \n",
      "\n",
      "2024-04-28 12:17:40 (442 KB/s) - ‘../data/NER_ENGLISH_RESTAURANT/restauranttrain.bio’ saved [759757/759757]\n",
      "\n",
      "--2024-04-28 12:17:40--  https://groups.csail.mit.edu/sls/downloads/restaurant/restauranttest.bio\n",
      "Resolving groups.csail.mit.edu (groups.csail.mit.edu)... 128.30.2.44\n",
      "Connecting to groups.csail.mit.edu (groups.csail.mit.edu)|128.30.2.44|:443... connected.\n",
      "HTTP request sent, awaiting response... 200 OK\n",
      "Length: 155722 (152K)\n",
      "Saving to: ‘../data/NER_ENGLISH_RESTAURANT/restauranttest.bio’\n",
      "\n",
      "restauranttest.bio  100%[===================>] 152.07K   393KB/s    in 0.4s    \n",
      "\n",
      "2024-04-28 12:17:41 (393 KB/s) - ‘../data/NER_ENGLISH_RESTAURANT/restauranttest.bio’ saved [155722/155722]\n",
      "\n"
     ]
    }
   ],
   "source": [
    "!wget -nc {corpus_url}/{train_filename} -P {corpus_dir}\n",
    "!wget -nc {corpus_url}/{test_filename} -P {corpus_dir}"
   ]
  },
  {
   "cell_type": "code",
   "execution_count": 3,
   "id": "5ead7682-7734-426e-9707-2b4c1227ce6e",
   "metadata": {},
   "outputs": [
    {
     "data": {
      "application/vnd.jupyter.widget-view+json": {
       "model_id": "9e5af133e4bb46a58f94b7c3799d6b4f",
       "version_major": 2,
       "version_minor": 0
      },
      "text/plain": [
       "Generating train split: 0 examples [00:00, ? examples/s]"
      ]
     },
     "metadata": {},
     "output_type": "display_data"
    },
    {
     "data": {
      "application/vnd.jupyter.widget-view+json": {
       "model_id": "c2be34cb68524ec0bd21ec36e435e261",
       "version_major": 2,
       "version_minor": 0
      },
      "text/plain": [
       "Generating train split: 0 examples [00:00, ? examples/s]"
      ]
     },
     "metadata": {},
     "output_type": "display_data"
    },
    {
     "data": {
      "text/plain": [
       "DatasetDict({\n",
       "    train: Dataset({\n",
       "        features: ['text', 'ner'],\n",
       "        num_rows: 7660\n",
       "    })\n",
       "    test: Dataset({\n",
       "        features: ['text', 'ner'],\n",
       "        num_rows: 1521\n",
       "    })\n",
       "})"
      ]
     },
     "execution_count": 3,
     "metadata": {},
     "output_type": "execute_result"
    }
   ],
   "source": [
    "from ai_den.utils.datasets import read_conll_file\n",
    "from datasets import DatasetDict\n",
    "\n",
    "column_format = {'text': 1, 'ner': 0}\n",
    "\n",
    "ds = DatasetDict({\n",
    "    'train': read_conll_file(corpus_dir / train_filename, column_format),\n",
    "    'test': read_conll_file(corpus_dir / test_filename, column_format),\n",
    "})\n",
    "\n",
    "ds"
   ]
  },
  {
   "cell_type": "code",
   "execution_count": 4,
   "id": "eaaee31f-046c-4b02-bbd2-97baf08b4356",
   "metadata": {},
   "outputs": [
    {
     "data": {
      "text/html": [
       "<div>\n",
       "<style scoped>\n",
       "    .dataframe tbody tr th:only-of-type {\n",
       "        vertical-align: middle;\n",
       "    }\n",
       "\n",
       "    .dataframe tbody tr th {\n",
       "        vertical-align: top;\n",
       "    }\n",
       "\n",
       "    .dataframe thead th {\n",
       "        text-align: right;\n",
       "    }\n",
       "</style>\n",
       "<table border=\"1\" class=\"dataframe\">\n",
       "  <thead>\n",
       "    <tr style=\"text-align: right;\">\n",
       "      <th></th>\n",
       "      <th>text</th>\n",
       "      <th>ner</th>\n",
       "    </tr>\n",
       "  </thead>\n",
       "  <tbody>\n",
       "    <tr>\n",
       "      <th>0</th>\n",
       "      <td>[2, start, restaurants, with, inside, dining]</td>\n",
       "      <td>[B-Rating, I-Rating, O, O, B-Amenity, I-Amenity]</td>\n",
       "    </tr>\n",
       "    <tr>\n",
       "      <th>1</th>\n",
       "      <td>[34]</td>\n",
       "      <td>[O]</td>\n",
       "    </tr>\n",
       "    <tr>\n",
       "      <th>2</th>\n",
       "      <td>[5, star, resturants, in, my, town]</td>\n",
       "      <td>[B-Rating, I-Rating, O, B-Location, I-Location...</td>\n",
       "    </tr>\n",
       "    <tr>\n",
       "      <th>3</th>\n",
       "      <td>[98, hong, kong, restaurant, reasonable, prices]</td>\n",
       "      <td>[O, B-Restaurant_Name, I-Restaurant_Name, O, B...</td>\n",
       "    </tr>\n",
       "    <tr>\n",
       "      <th>4</th>\n",
       "      <td>[a, great, lunch, spot, but, open, till, 2, a,...</td>\n",
       "      <td>[O, O, O, O, O, B-Hours, I-Hours, I-Hours, I-H...</td>\n",
       "    </tr>\n",
       "    <tr>\n",
       "      <th>...</th>\n",
       "      <td>...</td>\n",
       "      <td>...</td>\n",
       "    </tr>\n",
       "    <tr>\n",
       "      <th>7655</th>\n",
       "      <td>[yes, please, locate, the, nearest, seafood, r...</td>\n",
       "      <td>[O, O, O, O, B-Location, B-Cuisine, O]</td>\n",
       "    </tr>\n",
       "    <tr>\n",
       "      <th>7656</th>\n",
       "      <td>[yes, we, are, looking, for, a, formal, restau...</td>\n",
       "      <td>[O, O, O, O, O, O, B-Amenity, O, O, O, O, O, O...</td>\n",
       "    </tr>\n",
       "    <tr>\n",
       "      <th>7657</th>\n",
       "      <td>[yes, we, need, a, to, stop, at, five, guys, f...</td>\n",
       "      <td>[O, O, O, O, O, O, O, B-Restaurant_Name, I-Res...</td>\n",
       "    </tr>\n",
       "    <tr>\n",
       "      <th>7658</th>\n",
       "      <td>[yes, we, need, to, find, a, cheap, deli, with...</td>\n",
       "      <td>[O, O, O, O, O, O, B-Price, B-Cuisine, O, B-Ra...</td>\n",
       "    </tr>\n",
       "    <tr>\n",
       "      <th>7659</th>\n",
       "      <td>[yes, you, can, you, look, for, a, restaurant]</td>\n",
       "      <td>[O, O, O, O, O, O, O, O]</td>\n",
       "    </tr>\n",
       "  </tbody>\n",
       "</table>\n",
       "<p>7660 rows × 2 columns</p>\n",
       "</div>"
      ],
      "text/plain": [
       "                                                   text  \\\n",
       "0         [2, start, restaurants, with, inside, dining]   \n",
       "1                                                  [34]   \n",
       "2                   [5, star, resturants, in, my, town]   \n",
       "3      [98, hong, kong, restaurant, reasonable, prices]   \n",
       "4     [a, great, lunch, spot, but, open, till, 2, a,...   \n",
       "...                                                 ...   \n",
       "7655  [yes, please, locate, the, nearest, seafood, r...   \n",
       "7656  [yes, we, are, looking, for, a, formal, restau...   \n",
       "7657  [yes, we, need, a, to, stop, at, five, guys, f...   \n",
       "7658  [yes, we, need, to, find, a, cheap, deli, with...   \n",
       "7659     [yes, you, can, you, look, for, a, restaurant]   \n",
       "\n",
       "                                                    ner  \n",
       "0      [B-Rating, I-Rating, O, O, B-Amenity, I-Amenity]  \n",
       "1                                                   [O]  \n",
       "2     [B-Rating, I-Rating, O, B-Location, I-Location...  \n",
       "3     [O, B-Restaurant_Name, I-Restaurant_Name, O, B...  \n",
       "4     [O, O, O, O, O, B-Hours, I-Hours, I-Hours, I-H...  \n",
       "...                                                 ...  \n",
       "7655             [O, O, O, O, B-Location, B-Cuisine, O]  \n",
       "7656  [O, O, O, O, O, O, B-Amenity, O, O, O, O, O, O...  \n",
       "7657  [O, O, O, O, O, O, O, B-Restaurant_Name, I-Res...  \n",
       "7658  [O, O, O, O, O, O, B-Price, B-Cuisine, O, B-Ra...  \n",
       "7659                           [O, O, O, O, O, O, O, O]  \n",
       "\n",
       "[7660 rows x 2 columns]"
      ]
     },
     "execution_count": 4,
     "metadata": {},
     "output_type": "execute_result"
    }
   ],
   "source": [
    "ds['train'].to_pandas()"
   ]
  },
  {
   "cell_type": "code",
   "execution_count": 5,
   "id": "64e9cb9b-c0e2-458b-9364-cf6192a4380f",
   "metadata": {},
   "outputs": [
    {
     "data": {
      "application/vnd.jupyter.widget-view+json": {
       "model_id": "59b2319e25c34734ba2706340e5aab0b",
       "version_major": 2,
       "version_minor": 0
      },
      "text/plain": [
       "Uploading the dataset shards:   0%|          | 0/1 [00:00<?, ?it/s]"
      ]
     },
     "metadata": {},
     "output_type": "display_data"
    },
    {
     "data": {
      "application/vnd.jupyter.widget-view+json": {
       "model_id": "24e8b2b6ee0e4dd981a2db367808af3f",
       "version_major": 2,
       "version_minor": 0
      },
      "text/plain": [
       "Creating parquet from Arrow format:   0%|          | 0/8 [00:00<?, ?ba/s]"
      ]
     },
     "metadata": {},
     "output_type": "display_data"
    },
    {
     "data": {
      "application/vnd.jupyter.widget-view+json": {
       "model_id": "3b30fa60126c4acaa7efdaa04d58effc",
       "version_major": 2,
       "version_minor": 0
      },
      "text/plain": [
       "Uploading the dataset shards:   0%|          | 0/1 [00:00<?, ?it/s]"
      ]
     },
     "metadata": {},
     "output_type": "display_data"
    },
    {
     "data": {
      "application/vnd.jupyter.widget-view+json": {
       "model_id": "362b1612eb97479d82697ed91e530f59",
       "version_major": 2,
       "version_minor": 0
      },
      "text/plain": [
       "Creating parquet from Arrow format:   0%|          | 0/2 [00:00<?, ?ba/s]"
      ]
     },
     "metadata": {},
     "output_type": "display_data"
    },
    {
     "data": {
      "text/plain": [
       "CommitInfo(commit_url='https://huggingface.co/datasets/marcov/NER_ENGLISH_RESTAURANT/commit/d71bb5c95ac4e10fa596f69bd7f464499739c537', commit_message='Upload dataset', commit_description='', oid='d71bb5c95ac4e10fa596f69bd7f464499739c537', pr_url=None, pr_revision=None, pr_num=None)"
      ]
     },
     "execution_count": 5,
     "metadata": {},
     "output_type": "execute_result"
    }
   ],
   "source": [
    "ds.push_to_hub(\n",
    "    repo_id=f'{hub_username}/{corpus_name}',\n",
    "    private=True,\n",
    ")"
   ]
  },
  {
   "cell_type": "code",
   "execution_count": null,
   "id": "217a32d2-d1b7-4e80-973d-bebd23e3cf19",
   "metadata": {},
   "outputs": [],
   "source": []
  }
 ],
 "metadata": {
  "kernelspec": {
   "display_name": "Python 3 (ipykernel)",
   "language": "python",
   "name": "python3"
  },
  "language_info": {
   "codemirror_mode": {
    "name": "ipython",
    "version": 3
   },
   "file_extension": ".py",
   "mimetype": "text/x-python",
   "name": "python",
   "nbconvert_exporter": "python",
   "pygments_lexer": "ipython3",
   "version": "3.11.8"
  }
 },
 "nbformat": 4,
 "nbformat_minor": 5
}
